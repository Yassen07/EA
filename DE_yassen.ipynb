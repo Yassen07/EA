{
 "cells": [
  {
   "cell_type": "code",
   "execution_count": null,
   "metadata": {},
   "outputs": [],
   "source": [
    "import numpy as np\n",
    "import matplotlib.pyplot as plt\n",
    "from sklearn.datasets import load_iris\n",
    "from sklearn.model_selection import train_test_split\n",
    "from sklearn.preprocessing import StandardScaler\n",
    "from sklearn.metrics import accuracy_score "
   ]
  },
  {
   "cell_type": "code",
   "execution_count": null,
   "metadata": {},
   "outputs": [],
   "source": [
    "def relu(x):\n",
    "    return np.maximum(0, x)\n",
    "\n",
    "def softmax(x):\n",
    "    e_x = np.exp(x - np.max(x))\n",
    "    return e_x / e_x.sum()\n",
    "    \n",
    "def sigmoid(Z):\n",
    "    A = 1/(1+np.exp(-Z))\n",
    "    return A"
   ]
  },
  {
   "cell_type": "code",
   "execution_count": null,
   "metadata": {},
   "outputs": [],
   "source": [
    "import numpy as np\n",
    "\n",
    "class Layer:\n",
    "    def __init__(self, input_units, output_units, activation_function=None):\n",
    "        self.W = np.random.randn(input_units, output_units)\n",
    "        self.b = np.zeros(output_units)\n",
    "        self.activation_function = activation_function\n",
    "\n",
    "\n",
    "    def forward(self, inputs):\n",
    "        linear_output = np.dot(inputs, self.W) + self.b\n",
    "        if self.activation_function is None:\n",
    "            return linear_output\n",
    "        else:\n",
    "            return self.activation_function(linear_output)\n",
    "\n",
    "class NeuralNetwork:\n",
    "    def __init__(self):\n",
    "        self.layers = []\n",
    "        self.model_weights = []\n",
    "\n",
    "    def add(self, layer):\n",
    "        self.layers.append(layer)\n",
    "        self.model_weights.append(layer.W)\n",
    "        \n",
    "    def predict_prob(self, input_data):\n",
    "        results = []\n",
    "        for data in input_data:\n",
    "            output = data\n",
    "            for layer in self.layers:\n",
    "                output = layer.forward(output)\n",
    "            results.append(output)\n",
    "        return results \n",
    "\n",
    "    def predict(self, input_data):\n",
    "        prob_predictions = self.predict_prob(input_data)\n",
    "        return [np.argmax(prediction) for prediction in prob_predictions]\n",
    "\n",
    "\n",
    "    def print_architecture(self):\n",
    "        print(\"Model Architecture:\")\n",
    "        for i, layer in enumerate(self.layers):\n",
    "            activation = layer.activation_function.__name__ if layer.activation_function else \"None\"\n",
    "            print(f\"Layer {i+1}: Units={layer.W.shape[1]}, Activation={activation}\")\n",
    "\n",
    "    def print_weights(self):\n",
    "        print(\"Model Weights:\")\n",
    "        for i, w in enumerate(self.model_weights):\n",
    "            print(f\"Layer {i+1} shape : {w.shape} weights:\")\n",
    "            print(w)\n"
   ]
  }
 ],
 "metadata": {
  "language_info": {
   "name": "python"
  }
 },
 "nbformat": 4,
 "nbformat_minor": 2
}
