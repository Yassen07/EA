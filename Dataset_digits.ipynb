{
 "cells": [
  {
   "cell_type": "code",
   "execution_count": 2,
   "metadata": {},
   "outputs": [],
   "source": [
    "import numpy as np\n",
    "import pandas as pd\n",
    "from sklearn.datasets import load_digits\n",
    "from sklearn.model_selection import train_test_split\n",
    "from sklearn.preprocessing import MinMaxScaler\n",
    "import random\n",
    "from sklearn.metrics import accuracy_score\n",
    "from multiprocessing import Pool\n",
    "from functools import reduce\n",
    "import concurrent.futures as futures\n",
    "import plotly.graph_objs as go\n",
    "import plotly.io as pio\n",
    "import pandas as pd\n",
    "# loading dataset\n",
    "digits = load_digits()\n",
    "x = digits.data\n",
    "y = digits.target\n",
    "scaler = MinMaxScaler()\n",
    "x = scaler.fit_transform(x)\n",
    "\n",
    "def relu(x):\n",
    "    return np.maximum(0, x)\n",
    "def leaky_relu(x, a=0.01):\n",
    "    return np.maximum(a*x, x)\n",
    "def softmax(x):\n",
    "    e_x = np.exp(x - np.max(x))\n",
    "    return e_x / e_x.sum()\n",
    "    \n",
    "def sigmoid(Z):\n",
    "    A = 1/(1+np.exp(-Z))\n",
    "    return A\n",
    "class Layer:\n",
    "    def __init__(self, input_units, output_units, activation_function=None):\n",
    "#         random_array = np.random.uniform(low, high, size=(input_units, output_units))\n",
    "        self.W = np.random.uniform(-1, 1, size=(input_units, output_units))\n",
    "        self.b = np.random.uniform(-1, 1, size=(output_units))\n",
    "        self.activation_function = activation_function\n",
    "\n",
    "    def forward(self, inputs):\n",
    "        linear_output = np.dot(inputs, self.W) + self.b\n",
    "        if self.activation_function is None:\n",
    "            return linear_output\n",
    "        else:\n",
    "            return self.activation_function(linear_output)\n",
    "\n",
    "class NeuralNetwork:\n",
    "    def __init__(self):\n",
    "        self.layers = []\n",
    "        self.model_weights = []\n",
    "        self.model_biases = []\n",
    "        self.accuracy = None\n",
    "\n",
    "    def add(self, layer):\n",
    "        self.layers.append(layer)\n",
    "        self.model_weights.append(layer.W)\n",
    "        self.model_biases.append(layer.b)\n",
    "\n",
    "    def predict_prob(self, input_data):\n",
    "        return [reduce(lambda output, layer: layer.forward(output), self.layers, data) for data in input_data]\n",
    "\n",
    "    def predict(self, input_data):\n",
    "        prob_predictions = self.predict_prob(input_data)\n",
    "        return [np.argmax(prediction) for prediction in prob_predictions]\n",
    "\n",
    "\n",
    "    def print_architecture(self):\n",
    "        print(\"Model Architecture:\")\n",
    "        for i, layer in enumerate(self.layers):\n",
    "            activation = layer.activation_function.__name__ if layer.activation_function else \"None\"\n",
    "            print(f\"Layer {i+1}: Units={layer.W.shape[1]}, Activation={activation}\")\n",
    "\n",
    "    def print_weights(self):\n",
    "        print(\"Model Weights:\")\n",
    "        for i, w in enumerate(self.model_weights):\n",
    "            print(f\"Layer {i+1} shape : {w.shape} weights:\")\n",
    "            print(w)\n",
    "            \n",
    "    def set_accuracy(self, input_data, true_labels):\n",
    "        predicted_labels = self.predict(input_data)\n",
    "        self.accuracy= accuracy_score(true_labels,predicted_labels)*100\n",
    "    def get_accuracy(self):\n",
    "        return self.accuracy\n",
    "def gen_individual():\n",
    "    neural_network = NeuralNetwork()\n",
    "    first_layer = Layer(64, 32, leaky_relu)\n",
    "    second_layer = Layer(32, 32, leaky_relu)\n",
    "    # third_layer = Layer(32, 32, leaky_relu)\n",
    "    last_layer = Layer(32, 10, softmax)\n",
    "    neural_network.add(first_layer)\n",
    "    neural_network.add(second_layer)\n",
    "    # neural_network.add(third_layer)\n",
    "    neural_network.add(last_layer)\n",
    "    return neural_network\n",
    "def euclidean_distance(ind1, ind2):\n",
    "    total_distance = 0\n",
    "    for w1, w2, b1, b2 in zip(ind1.model_weights, ind2.model_weights, ind1.model_biases, ind2.model_biases):\n",
    "        total_distance += np.sum((w1 - w2) ** 2)\n",
    "        total_distance += np.sum((b1 - b2) ** 2)\n",
    "    return np.sqrt(total_distance)\n",
    "def fitness(individual):\n",
    "    individual.set_accuracy(x, y)\n",
    "    accuracy = individual.get_accuracy()\n",
    "    return accuracy\n",
    "def shared_fitness(individual, population, sigma_share=20.5, alpha=1.0):\n",
    "    distances = np.array([euclidean_distance(individual, other) for other in population if individual != other])\n",
    "    sharing_sum = np.sum(1 - (distances[distances < sigma_share] / sigma_share) ** alpha)\n",
    "    raw_fitness = fitness(individual)\n",
    "    adjusted_fitness = raw_fitness / (1 + sharing_sum)\n",
    "    return adjusted_fitness\n",
    "\n",
    "def generate_population(population_size):\n",
    "    population = []\n",
    "    fitnesses = []\n",
    "    for i in range(population_size):\n",
    "        individual = gen_individual()\n",
    "        population.append(individual)\n",
    "        fitnesses.append(fitness(individual))\n",
    "    return population, fitnesses\n",
    "def new_child(p1, p2, p3, target,cr, f):\n",
    "    mutant=gen_individual()\n",
    "    trial=gen_individual()\n",
    "    for i in range(len(mutant.model_weights)):\n",
    "      differencew = f * (p1.model_weights[i] - p2.model_weights[i])\n",
    "      differenceb = f * (p1.model_biases[i] - p2.model_biases[i])\n",
    "      mutant.model_weights[i]= p3.model_weights[i] + differencew\n",
    "      mutant.model_biases[i]= p3.model_biases[i]  + differenceb\n",
    "\n",
    "      for j in range(len(trial.model_weights[i])):\n",
    "        trial.model_weights[i][j]= mutant.model_weights[i][j] if random.random() <= cr else target.model_weights[i][j]\n",
    "      for j in range(len(trial.model_biases[i])):\n",
    "        trial.model_biases[i][j]= mutant.model_biases[i][j] if random.random() <= cr else target.model_biases[i][j]\n",
    "    return trial\n",
    "    \n",
    "def evaluate_target(args):\n",
    "    target, population, f, cr, sigma_share, alpha = args\n",
    "    a, b, c = random.sample(list(population), 3)\n",
    "    trial = new_child(a, b, c, target, cr, f)\n",
    "    trial_acc = shared_fitness(trial, population, sigma_share, alpha)\n",
    "    target_acc = shared_fitness(target, population, sigma_share, alpha)\n",
    "    if trial_acc > target_acc:\n",
    "        result = [trial, trial_acc]\n",
    "    else:\n",
    "        result = [target, target_acc]\n",
    "    return result\n",
    "def differential_evolution(population_size, f=1.5, cr=0.9, max_iters=240, sigma_share=130.0, alpha=1.0, max_stall_iters=10, percentage_to_keep=0.25):\n",
    "    # Initialize history dictionary to store accuracies\n",
    "    history = {\n",
    "        \"best\": [],\n",
    "        \"average\": [],\n",
    "        \"worst\": []\n",
    "    }\n",
    "    population, fitnesses = generate_population(population_size)\n",
    "    best = population[np.argmax(fitnesses)]\n",
    "    best_acc = max(fitnesses)\n",
    "    print(best_acc)\n",
    "    num_iters = 0\n",
    "    stall_iters = 0\n",
    "    while num_iters < max_iters:\n",
    "        with futures.ThreadPoolExecutor(max_workers=12) as executor:\n",
    "            args_list = [(target, population, f, cr, sigma_share, alpha) for target in population]\n",
    "            try:\n",
    "                results = list(executor.map(evaluate_target, args_list))\n",
    "            except Exception as e:\n",
    "                print(f\"Error: {e}\")\n",
    "                break\n",
    "  \n",
    "        results = np.array(results)\n",
    "        \n",
    "        new_population = results[:,0]\n",
    "        new_fitnesses = results[:,1]\n",
    "\n",
    "\n",
    "\n",
    "        best_index = np.argmax(new_fitnesses)\n",
    "        new_best_acc = new_fitnesses[best_index]\n",
    "\n",
    "        if new_best_acc > best_acc:\n",
    "            best_acc = new_best_acc\n",
    "            best = new_population[best_index]\n",
    "            stall_iters = 0\n",
    "        else:\n",
    "            stall_iters += 1\n",
    "\n",
    "        population = new_population\n",
    "        num_iters += 1\n",
    "        avr=np.mean(new_fitnesses)\n",
    "\n",
    "        # Store accuracies in history dictionary\n",
    "        history[\"best\"].append(best_acc)\n",
    "        history[\"average\"].append(avr)\n",
    "        history[\"worst\"].append(np.min(new_fitnesses))\n",
    "\n",
    "        print(f\"Iteration: {num_iters} -> Best Accuracy: {best_acc:.2f} % -> Average:{avr:.2f} \")\n",
    "\n",
    "        # Restart if best accuracy has not improved for max_stall_iters iterations\n",
    "        if stall_iters == max_stall_iters:\n",
    "            print(f\"Restarting population due to stalling for {max_stall_iters} iterations...\")\n",
    "            sorted_indices = np.argsort(-new_fitnesses)\n",
    "            keep = int(percentage_to_keep*population_size)\n",
    "            new_indx = sorted_indices[:keep]\n",
    "            keep_pop = new_population[new_indx]\n",
    "            population, fitnesses = generate_population(population_size-keep)\n",
    "            # population.append(best)\n",
    "            # fitnesses.append(best_acc)\n",
    "            population = np.concatenate((keep_pop, population))\n",
    "            best = population[np.argmax(fitnesses)]\n",
    "            best_acc = max(fitnesses)\n",
    "            stall_iters = 0\n",
    "\n",
    "    return population, best, best_acc, history\n",
    "def plot_history(history):\n",
    "    fig = go.Figure()\n",
    "\n",
    "    for key in history.keys():\n",
    "        fig.add_trace(go.Scatter(x=list(range(1, len(history[key]) + 1)), y=history[key], mode='lines', name=key))\n",
    "\n",
    "    fig.update_layout(title='Evolution of Accuracy',\n",
    "                      xaxis_title='Iteration',\n",
    "                      yaxis_title='Accuracy',\n",
    "                      legend_title='Accuracy Type')\n",
    "\n",
    "    pio.show(fig)\n",
    "\n"
   ]
  },
  {
   "cell_type": "code",
   "execution_count": 3,
   "metadata": {},
   "outputs": [
    {
     "name": "stdout",
     "output_type": "stream",
     "text": [
      "15.859766277128548\n",
      "Iteration: 1 -> Best Accuracy: 15.86 % -> Average:0.87 \n",
      "Iteration: 2 -> Best Accuracy: 19.25 % -> Average:9.86 \n",
      "Iteration: 3 -> Best Accuracy: 21.26 % -> Average:12.03 \n",
      "Iteration: 4 -> Best Accuracy: 21.26 % -> Average:13.24 \n",
      "Iteration: 5 -> Best Accuracy: 21.26 % -> Average:13.94 \n",
      "Iteration: 6 -> Best Accuracy: 21.26 % -> Average:14.67 \n",
      "Iteration: 7 -> Best Accuracy: 21.26 % -> Average:15.33 \n",
      "Iteration: 8 -> Best Accuracy: 21.26 % -> Average:15.92 \n",
      "Iteration: 9 -> Best Accuracy: 23.15 % -> Average:16.78 \n",
      "Iteration: 10 -> Best Accuracy: 23.15 % -> Average:17.03 \n",
      "Iteration: 11 -> Best Accuracy: 23.26 % -> Average:17.49 \n",
      "Iteration: 12 -> Best Accuracy: 23.26 % -> Average:17.56 \n",
      "Iteration: 13 -> Best Accuracy: 23.26 % -> Average:17.76 \n",
      "Iteration: 14 -> Best Accuracy: 23.26 % -> Average:18.13 \n",
      "Iteration: 15 -> Best Accuracy: 23.26 % -> Average:18.49 \n",
      "Iteration: 16 -> Best Accuracy: 23.26 % -> Average:18.73 \n",
      "Iteration: 17 -> Best Accuracy: 23.26 % -> Average:19.06 \n",
      "Iteration: 18 -> Best Accuracy: 23.26 % -> Average:19.46 \n",
      "Iteration: 19 -> Best Accuracy: 23.26 % -> Average:19.74 \n",
      "Iteration: 20 -> Best Accuracy: 23.26 % -> Average:19.84 \n",
      "Iteration: 21 -> Best Accuracy: 23.26 % -> Average:19.90 \n",
      "Restarting population due to stalling for 10 iterations...\n",
      "Iteration: 22 -> Best Accuracy: 23.26 % -> Average:12.13 \n",
      "Iteration: 23 -> Best Accuracy: 23.26 % -> Average:15.66 \n",
      "Iteration: 24 -> Best Accuracy: 23.26 % -> Average:16.29 \n",
      "Iteration: 25 -> Best Accuracy: 23.26 % -> Average:16.89 \n",
      "Iteration: 26 -> Best Accuracy: 23.26 % -> Average:17.53 \n",
      "Iteration: 27 -> Best Accuracy: 24.43 % -> Average:18.33 \n",
      "Iteration: 28 -> Best Accuracy: 24.43 % -> Average:19.01 \n",
      "Iteration: 29 -> Best Accuracy: 24.43 % -> Average:19.17 \n",
      "Iteration: 30 -> Best Accuracy: 24.43 % -> Average:19.36 \n",
      "Iteration: 31 -> Best Accuracy: 24.43 % -> Average:19.65 \n",
      "Iteration: 32 -> Best Accuracy: 24.43 % -> Average:19.75 \n",
      "Iteration: 33 -> Best Accuracy: 24.43 % -> Average:19.75 \n",
      "Iteration: 34 -> Best Accuracy: 24.43 % -> Average:20.08 \n",
      "Iteration: 35 -> Best Accuracy: 24.43 % -> Average:20.29 \n",
      "Iteration: 36 -> Best Accuracy: 24.43 % -> Average:20.39 \n",
      "Iteration: 37 -> Best Accuracy: 24.43 % -> Average:20.52 \n",
      "Restarting population due to stalling for 10 iterations...\n",
      "Iteration: 38 -> Best Accuracy: 24.71 % -> Average:12.62 \n",
      "Iteration: 39 -> Best Accuracy: 24.71 % -> Average:16.59 \n",
      "Iteration: 40 -> Best Accuracy: 24.71 % -> Average:17.51 \n",
      "Iteration: 41 -> Best Accuracy: 24.71 % -> Average:18.02 \n",
      "Iteration: 42 -> Best Accuracy: 24.71 % -> Average:18.53 \n",
      "Iteration: 43 -> Best Accuracy: 24.71 % -> Average:19.30 \n",
      "Iteration: 44 -> Best Accuracy: 24.71 % -> Average:19.87 \n",
      "Iteration: 45 -> Best Accuracy: 25.26 % -> Average:20.46 \n",
      "Iteration: 46 -> Best Accuracy: 25.65 % -> Average:20.75 \n",
      "Iteration: 47 -> Best Accuracy: 25.65 % -> Average:21.28 \n",
      "Iteration: 48 -> Best Accuracy: 25.82 % -> Average:22.21 \n",
      "Iteration: 49 -> Best Accuracy: 31.50 % -> Average:23.00 \n",
      "Iteration: 50 -> Best Accuracy: 31.50 % -> Average:23.31 \n",
      "Iteration: 51 -> Best Accuracy: 31.50 % -> Average:23.37 \n",
      "Iteration: 52 -> Best Accuracy: 31.50 % -> Average:23.60 \n",
      "Iteration: 53 -> Best Accuracy: 31.50 % -> Average:23.71 \n",
      "Iteration: 54 -> Best Accuracy: 31.50 % -> Average:23.88 \n",
      "Iteration: 55 -> Best Accuracy: 31.50 % -> Average:24.00 \n",
      "Iteration: 56 -> Best Accuracy: 31.50 % -> Average:24.49 \n",
      "Iteration: 57 -> Best Accuracy: 31.50 % -> Average:24.56 \n",
      "Iteration: 58 -> Best Accuracy: 31.50 % -> Average:24.97 \n",
      "Iteration: 59 -> Best Accuracy: 31.50 % -> Average:25.11 \n",
      "Restarting population due to stalling for 10 iterations...\n",
      "Iteration: 60 -> Best Accuracy: 31.50 % -> Average:12.62 \n",
      "Iteration: 61 -> Best Accuracy: 31.50 % -> Average:18.23 \n",
      "Iteration: 62 -> Best Accuracy: 31.50 % -> Average:19.96 \n",
      "Iteration: 63 -> Best Accuracy: 31.50 % -> Average:20.93 \n",
      "Iteration: 64 -> Best Accuracy: 31.50 % -> Average:22.02 \n",
      "Iteration: 65 -> Best Accuracy: 31.50 % -> Average:22.39 \n",
      "Iteration: 66 -> Best Accuracy: 31.50 % -> Average:23.09 \n",
      "Iteration: 67 -> Best Accuracy: 31.50 % -> Average:23.54 \n",
      "Iteration: 68 -> Best Accuracy: 31.50 % -> Average:23.67 \n",
      "Iteration: 69 -> Best Accuracy: 31.50 % -> Average:23.88 \n",
      "Iteration: 70 -> Best Accuracy: 31.94 % -> Average:24.21 \n",
      "Iteration: 71 -> Best Accuracy: 31.94 % -> Average:25.16 \n",
      "Iteration: 72 -> Best Accuracy: 31.94 % -> Average:25.80 \n",
      "Iteration: 73 -> Best Accuracy: 31.94 % -> Average:26.53 \n",
      "Iteration: 74 -> Best Accuracy: 31.94 % -> Average:26.86 \n",
      "Iteration: 75 -> Best Accuracy: 31.94 % -> Average:27.28 \n",
      "Iteration: 76 -> Best Accuracy: 31.94 % -> Average:27.43 \n",
      "Iteration: 77 -> Best Accuracy: 31.94 % -> Average:27.53 \n",
      "Iteration: 78 -> Best Accuracy: 31.94 % -> Average:27.53 \n",
      "Iteration: 79 -> Best Accuracy: 31.94 % -> Average:27.73 \n",
      "Iteration: 80 -> Best Accuracy: 31.94 % -> Average:27.75 \n",
      "Restarting population due to stalling for 10 iterations...\n",
      "Iteration: 81 -> Best Accuracy: 31.94 % -> Average:15.07 \n",
      "Iteration: 82 -> Best Accuracy: 31.94 % -> Average:22.08 \n",
      "Iteration: 83 -> Best Accuracy: 31.94 % -> Average:23.96 \n",
      "Iteration: 84 -> Best Accuracy: 31.94 % -> Average:24.46 \n",
      "Iteration: 85 -> Best Accuracy: 31.94 % -> Average:25.56 \n",
      "Iteration: 86 -> Best Accuracy: 31.94 % -> Average:26.23 \n",
      "Iteration: 87 -> Best Accuracy: 31.94 % -> Average:26.50 \n",
      "Iteration: 88 -> Best Accuracy: 31.94 % -> Average:26.80 \n",
      "Iteration: 89 -> Best Accuracy: 31.94 % -> Average:27.15 \n",
      "Iteration: 90 -> Best Accuracy: 31.94 % -> Average:27.74 \n",
      "Iteration: 91 -> Best Accuracy: 31.94 % -> Average:28.41 \n",
      "Restarting population due to stalling for 10 iterations...\n",
      "Iteration: 92 -> Best Accuracy: 31.94 % -> Average:13.95 \n",
      "Iteration: 93 -> Best Accuracy: 31.94 % -> Average:21.16 \n",
      "Iteration: 94 -> Best Accuracy: 31.94 % -> Average:22.95 \n",
      "Iteration: 95 -> Best Accuracy: 31.94 % -> Average:23.84 \n",
      "Iteration: 96 -> Best Accuracy: 31.94 % -> Average:24.80 \n",
      "Iteration: 97 -> Best Accuracy: 31.94 % -> Average:25.06 \n",
      "Iteration: 98 -> Best Accuracy: 31.94 % -> Average:25.31 \n",
      "Iteration: 99 -> Best Accuracy: 31.94 % -> Average:25.49 \n",
      "Iteration: 100 -> Best Accuracy: 31.94 % -> Average:26.26 \n",
      "Iteration: 101 -> Best Accuracy: 31.94 % -> Average:26.41 \n",
      "Iteration: 102 -> Best Accuracy: 31.94 % -> Average:27.21 \n",
      "Restarting population due to stalling for 10 iterations...\n",
      "Iteration: 103 -> Best Accuracy: 31.94 % -> Average:16.02 \n",
      "Iteration: 104 -> Best Accuracy: 31.94 % -> Average:21.46 \n",
      "Iteration: 105 -> Best Accuracy: 31.94 % -> Average:22.89 \n",
      "Iteration: 106 -> Best Accuracy: 31.94 % -> Average:24.21 \n",
      "Iteration: 107 -> Best Accuracy: 31.94 % -> Average:24.47 \n",
      "Iteration: 108 -> Best Accuracy: 31.94 % -> Average:25.59 \n",
      "Iteration: 109 -> Best Accuracy: 31.94 % -> Average:26.46 \n",
      "Iteration: 110 -> Best Accuracy: 31.94 % -> Average:26.47 \n",
      "Iteration: 111 -> Best Accuracy: 31.94 % -> Average:27.24 \n",
      "Iteration: 112 -> Best Accuracy: 31.94 % -> Average:27.35 \n",
      "Iteration: 113 -> Best Accuracy: 31.94 % -> Average:27.70 \n",
      "Restarting population due to stalling for 10 iterations...\n",
      "Iteration: 114 -> Best Accuracy: 31.94 % -> Average:15.31 \n",
      "Iteration: 115 -> Best Accuracy: 31.94 % -> Average:20.35 \n",
      "Iteration: 116 -> Best Accuracy: 31.94 % -> Average:21.29 \n",
      "Iteration: 117 -> Best Accuracy: 31.94 % -> Average:22.24 \n",
      "Iteration: 118 -> Best Accuracy: 32.28 % -> Average:22.61 \n",
      "Iteration: 119 -> Best Accuracy: 32.28 % -> Average:23.82 \n",
      "Iteration: 120 -> Best Accuracy: 32.28 % -> Average:24.72 \n",
      "Iteration: 121 -> Best Accuracy: 32.28 % -> Average:25.29 \n",
      "Iteration: 122 -> Best Accuracy: 32.28 % -> Average:25.67 \n",
      "Iteration: 123 -> Best Accuracy: 32.28 % -> Average:26.09 \n",
      "Iteration: 124 -> Best Accuracy: 32.28 % -> Average:26.54 \n",
      "Iteration: 125 -> Best Accuracy: 32.28 % -> Average:27.05 \n",
      "Iteration: 126 -> Best Accuracy: 32.28 % -> Average:27.05 \n",
      "Iteration: 127 -> Best Accuracy: 32.28 % -> Average:27.31 \n",
      "Iteration: 128 -> Best Accuracy: 32.28 % -> Average:27.99 \n",
      "Restarting population due to stalling for 10 iterations...\n",
      "Iteration: 129 -> Best Accuracy: 32.28 % -> Average:15.12 \n",
      "Iteration: 130 -> Best Accuracy: 32.28 % -> Average:21.91 \n",
      "Iteration: 131 -> Best Accuracy: 32.28 % -> Average:23.59 \n",
      "Iteration: 132 -> Best Accuracy: 32.28 % -> Average:24.78 \n",
      "Iteration: 133 -> Best Accuracy: 32.28 % -> Average:25.33 \n",
      "Iteration: 134 -> Best Accuracy: 32.28 % -> Average:25.43 \n",
      "Iteration: 135 -> Best Accuracy: 32.28 % -> Average:26.41 \n",
      "Iteration: 136 -> Best Accuracy: 32.28 % -> Average:26.89 \n",
      "Iteration: 137 -> Best Accuracy: 33.89 % -> Average:27.72 \n",
      "Iteration: 138 -> Best Accuracy: 33.89 % -> Average:28.18 \n",
      "Iteration: 139 -> Best Accuracy: 34.17 % -> Average:29.12 \n",
      "Iteration: 140 -> Best Accuracy: 34.17 % -> Average:29.50 \n",
      "Iteration: 141 -> Best Accuracy: 34.17 % -> Average:29.59 \n",
      "Iteration: 142 -> Best Accuracy: 34.17 % -> Average:29.83 \n",
      "Iteration: 143 -> Best Accuracy: 34.39 % -> Average:30.24 \n",
      "Iteration: 144 -> Best Accuracy: 34.39 % -> Average:30.48 \n",
      "Iteration: 145 -> Best Accuracy: 34.39 % -> Average:30.78 \n",
      "Iteration: 146 -> Best Accuracy: 34.39 % -> Average:31.06 \n",
      "Iteration: 147 -> Best Accuracy: 34.39 % -> Average:31.53 \n",
      "Iteration: 148 -> Best Accuracy: 34.39 % -> Average:31.94 \n",
      "Iteration: 149 -> Best Accuracy: 34.39 % -> Average:32.00 \n",
      "Iteration: 150 -> Best Accuracy: 36.62 % -> Average:32.28 \n",
      "Iteration: 151 -> Best Accuracy: 36.62 % -> Average:32.47 \n",
      "Iteration: 152 -> Best Accuracy: 36.62 % -> Average:32.67 \n",
      "Iteration: 153 -> Best Accuracy: 36.62 % -> Average:32.80 \n",
      "Iteration: 154 -> Best Accuracy: 36.62 % -> Average:32.88 \n",
      "Iteration: 155 -> Best Accuracy: 36.62 % -> Average:33.21 \n",
      "Iteration: 156 -> Best Accuracy: 36.62 % -> Average:33.39 \n",
      "Iteration: 157 -> Best Accuracy: 36.62 % -> Average:33.39 \n",
      "Iteration: 158 -> Best Accuracy: 36.62 % -> Average:33.46 \n",
      "Iteration: 159 -> Best Accuracy: 36.62 % -> Average:33.55 \n",
      "Iteration: 160 -> Best Accuracy: 36.62 % -> Average:33.58 \n",
      "Restarting population due to stalling for 10 iterations...\n",
      "Iteration: 161 -> Best Accuracy: 36.62 % -> Average:17.96 \n",
      "Iteration: 162 -> Best Accuracy: 36.62 % -> Average:21.75 \n",
      "Iteration: 163 -> Best Accuracy: 36.62 % -> Average:22.94 \n",
      "Iteration: 164 -> Best Accuracy: 36.62 % -> Average:25.31 \n",
      "Iteration: 165 -> Best Accuracy: 36.62 % -> Average:25.44 \n",
      "Iteration: 166 -> Best Accuracy: 36.62 % -> Average:26.35 \n",
      "Iteration: 167 -> Best Accuracy: 36.62 % -> Average:26.85 \n",
      "Iteration: 168 -> Best Accuracy: 36.62 % -> Average:27.28 \n",
      "Iteration: 169 -> Best Accuracy: 36.62 % -> Average:27.98 \n",
      "Iteration: 170 -> Best Accuracy: 36.62 % -> Average:28.20 \n",
      "Iteration: 171 -> Best Accuracy: 36.62 % -> Average:28.63 \n",
      "Restarting population due to stalling for 10 iterations...\n",
      "Iteration: 172 -> Best Accuracy: 37.23 % -> Average:20.56 \n",
      "Iteration: 173 -> Best Accuracy: 37.23 % -> Average:25.95 \n",
      "Iteration: 174 -> Best Accuracy: 37.23 % -> Average:27.07 \n",
      "Iteration: 175 -> Best Accuracy: 37.23 % -> Average:28.12 \n",
      "Iteration: 176 -> Best Accuracy: 37.23 % -> Average:29.32 \n",
      "Iteration: 177 -> Best Accuracy: 37.23 % -> Average:30.03 \n",
      "Iteration: 178 -> Best Accuracy: 37.23 % -> Average:30.26 \n",
      "Iteration: 179 -> Best Accuracy: 37.23 % -> Average:31.28 \n",
      "Iteration: 180 -> Best Accuracy: 37.23 % -> Average:31.30 \n",
      "Iteration: 181 -> Best Accuracy: 37.23 % -> Average:31.90 \n",
      "Iteration: 182 -> Best Accuracy: 37.23 % -> Average:32.30 \n",
      "Restarting population due to stalling for 10 iterations...\n",
      "Iteration: 183 -> Best Accuracy: 37.23 % -> Average:19.53 \n",
      "Iteration: 184 -> Best Accuracy: 37.23 % -> Average:23.41 \n",
      "Iteration: 185 -> Best Accuracy: 37.23 % -> Average:24.34 \n",
      "Iteration: 186 -> Best Accuracy: 37.23 % -> Average:25.20 \n",
      "Iteration: 187 -> Best Accuracy: 37.23 % -> Average:25.91 \n",
      "Iteration: 188 -> Best Accuracy: 37.23 % -> Average:26.90 \n",
      "Iteration: 189 -> Best Accuracy: 37.23 % -> Average:27.01 \n",
      "Iteration: 190 -> Best Accuracy: 37.23 % -> Average:27.69 \n",
      "Iteration: 191 -> Best Accuracy: 37.23 % -> Average:28.15 \n",
      "Iteration: 192 -> Best Accuracy: 37.23 % -> Average:29.10 \n",
      "Iteration: 193 -> Best Accuracy: 37.23 % -> Average:29.27 \n",
      "Restarting population due to stalling for 10 iterations...\n",
      "Iteration: 194 -> Best Accuracy: 37.23 % -> Average:17.17 \n",
      "Iteration: 195 -> Best Accuracy: 37.23 % -> Average:22.63 \n",
      "Iteration: 196 -> Best Accuracy: 37.23 % -> Average:23.72 \n",
      "Iteration: 197 -> Best Accuracy: 37.23 % -> Average:25.61 \n",
      "Iteration: 198 -> Best Accuracy: 37.23 % -> Average:27.37 \n",
      "Iteration: 199 -> Best Accuracy: 37.23 % -> Average:27.94 \n",
      "Iteration: 200 -> Best Accuracy: 37.23 % -> Average:28.71 \n",
      "Iteration: 201 -> Best Accuracy: 37.23 % -> Average:29.12 \n",
      "Iteration: 202 -> Best Accuracy: 37.23 % -> Average:29.71 \n",
      "Iteration: 203 -> Best Accuracy: 37.23 % -> Average:29.98 \n",
      "Iteration: 204 -> Best Accuracy: 37.23 % -> Average:30.02 \n",
      "Restarting population due to stalling for 10 iterations...\n",
      "Iteration: 205 -> Best Accuracy: 37.23 % -> Average:19.50 \n",
      "Iteration: 206 -> Best Accuracy: 37.23 % -> Average:26.95 \n",
      "Iteration: 207 -> Best Accuracy: 37.23 % -> Average:28.53 \n",
      "Iteration: 208 -> Best Accuracy: 37.23 % -> Average:28.69 \n",
      "Iteration: 209 -> Best Accuracy: 37.23 % -> Average:29.39 \n",
      "Iteration: 210 -> Best Accuracy: 37.23 % -> Average:29.65 \n",
      "Iteration: 211 -> Best Accuracy: 37.23 % -> Average:29.73 \n",
      "Iteration: 212 -> Best Accuracy: 37.23 % -> Average:30.26 \n",
      "Iteration: 213 -> Best Accuracy: 37.23 % -> Average:30.44 \n",
      "Iteration: 214 -> Best Accuracy: 37.23 % -> Average:30.67 \n",
      "Iteration: 215 -> Best Accuracy: 37.23 % -> Average:30.67 \n",
      "Restarting population due to stalling for 10 iterations...\n",
      "Iteration: 216 -> Best Accuracy: 37.23 % -> Average:17.44 \n",
      "Iteration: 217 -> Best Accuracy: 37.23 % -> Average:21.34 \n",
      "Iteration: 218 -> Best Accuracy: 37.23 % -> Average:22.33 \n",
      "Iteration: 219 -> Best Accuracy: 37.23 % -> Average:24.61 \n",
      "Iteration: 220 -> Best Accuracy: 37.23 % -> Average:25.10 \n",
      "Iteration: 221 -> Best Accuracy: 37.23 % -> Average:25.67 \n",
      "Iteration: 222 -> Best Accuracy: 37.23 % -> Average:26.14 \n",
      "Iteration: 223 -> Best Accuracy: 37.23 % -> Average:26.27 \n",
      "Iteration: 224 -> Best Accuracy: 37.23 % -> Average:27.04 \n",
      "Iteration: 225 -> Best Accuracy: 37.23 % -> Average:27.72 \n",
      "Iteration: 226 -> Best Accuracy: 37.23 % -> Average:28.17 \n",
      "Restarting population due to stalling for 10 iterations...\n",
      "Iteration: 227 -> Best Accuracy: 37.23 % -> Average:17.99 \n",
      "Iteration: 228 -> Best Accuracy: 37.23 % -> Average:22.98 \n",
      "Iteration: 229 -> Best Accuracy: 37.23 % -> Average:25.89 \n",
      "Iteration: 230 -> Best Accuracy: 37.23 % -> Average:26.46 \n",
      "Iteration: 231 -> Best Accuracy: 37.23 % -> Average:28.08 \n",
      "Iteration: 232 -> Best Accuracy: 37.23 % -> Average:28.57 \n",
      "Iteration: 233 -> Best Accuracy: 37.23 % -> Average:28.73 \n",
      "Iteration: 234 -> Best Accuracy: 37.23 % -> Average:29.13 \n",
      "Iteration: 235 -> Best Accuracy: 37.23 % -> Average:29.28 \n",
      "Iteration: 236 -> Best Accuracy: 37.23 % -> Average:29.40 \n",
      "Iteration: 237 -> Best Accuracy: 37.23 % -> Average:29.57 \n",
      "Restarting population due to stalling for 10 iterations...\n",
      "Iteration: 238 -> Best Accuracy: 37.23 % -> Average:16.80 \n",
      "Iteration: 239 -> Best Accuracy: 37.23 % -> Average:22.51 \n",
      "Iteration: 240 -> Best Accuracy: 37.23 % -> Average:24.50 \n",
      "46.99760366678238\n"
     ]
    }
   ],
   "source": [
    "import time\n",
    "start_time = time.time()\n",
    "population,best_solution,best_acc, history = differential_evolution(30)\n",
    "end_time = time.time()\n",
    "print((end_time - start_time)/60)"
   ]
  },
  {
   "cell_type": "code",
   "execution_count": 4,
   "metadata": {},
   "outputs": [
    {
     "data": {
      "application/vnd.plotly.v1+json": {
       "config": {
        "plotlyServerURL": "https://plot.ly"
       },
       "data": [
        {
         "mode": "lines",
         "name": "best",
         "type": "scatter",
         "x": [
          1,
          2,
          3,
          4,
          5,
          6,
          7,
          8,
          9,
          10,
          11,
          12,
          13,
          14,
          15,
          16,
          17,
          18,
          19,
          20,
          21,
          22,
          23,
          24,
          25,
          26,
          27,
          28,
          29,
          30,
          31,
          32,
          33,
          34,
          35,
          36,
          37,
          38,
          39,
          40,
          41,
          42,
          43,
          44,
          45,
          46,
          47,
          48,
          49,
          50,
          51,
          52,
          53,
          54,
          55,
          56,
          57,
          58,
          59,
          60,
          61,
          62,
          63,
          64,
          65,
          66,
          67,
          68,
          69,
          70,
          71,
          72,
          73,
          74,
          75,
          76,
          77,
          78,
          79,
          80,
          81,
          82,
          83,
          84,
          85,
          86,
          87,
          88,
          89,
          90,
          91,
          92,
          93,
          94,
          95,
          96,
          97,
          98,
          99,
          100,
          101,
          102,
          103,
          104,
          105,
          106,
          107,
          108,
          109,
          110,
          111,
          112,
          113,
          114,
          115,
          116,
          117,
          118,
          119,
          120,
          121,
          122,
          123,
          124,
          125,
          126,
          127,
          128,
          129,
          130,
          131,
          132,
          133,
          134,
          135,
          136,
          137,
          138,
          139,
          140,
          141,
          142,
          143,
          144,
          145,
          146,
          147,
          148,
          149,
          150,
          151,
          152,
          153,
          154,
          155,
          156,
          157,
          158,
          159,
          160,
          161,
          162,
          163,
          164,
          165,
          166,
          167,
          168,
          169,
          170,
          171,
          172,
          173,
          174,
          175,
          176,
          177,
          178,
          179,
          180,
          181,
          182,
          183,
          184,
          185,
          186,
          187,
          188,
          189,
          190,
          191,
          192,
          193,
          194,
          195,
          196,
          197,
          198,
          199,
          200,
          201,
          202,
          203,
          204,
          205,
          206,
          207,
          208,
          209,
          210,
          211,
          212,
          213,
          214,
          215,
          216,
          217,
          218,
          219,
          220,
          221,
          222,
          223,
          224,
          225,
          226,
          227,
          228,
          229,
          230,
          231,
          232,
          233,
          234,
          235,
          236,
          237,
          238,
          239,
          240
         ],
         "y": [
          15.859766277128548,
          19.252832068639883,
          21.257651641624932,
          21.257651641624932,
          21.257651641624932,
          21.257651641624932,
          21.257651641624932,
          21.257651641624932,
          23.149693934335,
          23.149693934335,
          23.260990539788537,
          23.260990539788537,
          23.260990539788537,
          23.260990539788537,
          23.260990539788537,
          23.260990539788537,
          23.260990539788537,
          23.260990539788537,
          23.260990539788537,
          23.260990539788537,
          23.260990539788537,
          23.260990539788537,
          23.260990539788537,
          23.260990539788537,
          23.260990539788537,
          23.260990539788537,
          24.42960489705064,
          24.42960489705064,
          24.42960489705064,
          24.42960489705064,
          24.42960489705064,
          24.42960489705064,
          24.42960489705064,
          24.42960489705064,
          24.42960489705064,
          24.42960489705064,
          24.42960489705064,
          24.707846410684475,
          24.707846410684475,
          24.707846410684475,
          24.707846410684475,
          24.707846410684475,
          24.707846410684475,
          24.707846410684475,
          25.264329437952142,
          25.65386755703951,
          25.65386755703951,
          25.82081246521981,
          31.49693934335003,
          31.49693934335003,
          31.49693934335003,
          31.49693934335003,
          31.49693934335003,
          31.49693934335003,
          31.49693934335003,
          31.49693934335003,
          31.49693934335003,
          31.49693934335003,
          31.49693934335003,
          31.49693934335003,
          31.49693934335003,
          31.49693934335003,
          31.49693934335003,
          31.49693934335003,
          31.49693934335003,
          31.49693934335003,
          31.49693934335003,
          31.49693934335003,
          31.49693934335003,
          31.942125765164164,
          31.942125765164164,
          31.942125765164164,
          31.942125765164164,
          31.942125765164164,
          31.942125765164164,
          31.942125765164164,
          31.942125765164164,
          31.942125765164164,
          31.942125765164164,
          31.942125765164164,
          31.942125765164164,
          31.942125765164164,
          31.942125765164164,
          31.942125765164164,
          31.942125765164164,
          31.942125765164164,
          31.942125765164164,
          31.942125765164164,
          31.942125765164164,
          31.942125765164164,
          31.942125765164164,
          31.942125765164164,
          31.942125765164164,
          31.942125765164164,
          31.942125765164164,
          31.942125765164164,
          31.942125765164164,
          31.942125765164164,
          31.942125765164164,
          31.942125765164164,
          31.942125765164164,
          31.942125765164164,
          31.942125765164164,
          31.942125765164164,
          31.942125765164164,
          31.942125765164164,
          31.942125765164164,
          31.942125765164164,
          31.942125765164164,
          31.942125765164164,
          31.942125765164164,
          31.942125765164164,
          31.942125765164164,
          31.942125765164164,
          31.942125765164164,
          31.942125765164164,
          31.942125765164164,
          32.27601558152477,
          32.27601558152477,
          32.27601558152477,
          32.27601558152477,
          32.27601558152477,
          32.27601558152477,
          32.27601558152477,
          32.27601558152477,
          32.27601558152477,
          32.27601558152477,
          32.27601558152477,
          32.27601558152477,
          32.27601558152477,
          32.27601558152477,
          32.27601558152477,
          32.27601558152477,
          32.27601558152477,
          32.27601558152477,
          32.27601558152477,
          33.889816360601,
          33.889816360601,
          34.16805787423483,
          34.16805787423483,
          34.16805787423483,
          34.16805787423483,
          34.390651085141904,
          34.390651085141904,
          34.390651085141904,
          34.390651085141904,
          34.390651085141904,
          34.390651085141904,
          34.390651085141904,
          36.61658319421257,
          36.61658319421257,
          36.61658319421257,
          36.61658319421257,
          36.61658319421257,
          36.61658319421257,
          36.61658319421257,
          36.61658319421257,
          36.61658319421257,
          36.61658319421257,
          36.61658319421257,
          36.61658319421257,
          36.61658319421257,
          36.61658319421257,
          36.61658319421257,
          36.61658319421257,
          36.61658319421257,
          36.61658319421257,
          36.61658319421257,
          36.61658319421257,
          36.61658319421257,
          36.61658319421257,
          37.228714524207014,
          37.228714524207014,
          37.228714524207014,
          37.228714524207014,
          37.228714524207014,
          37.228714524207014,
          37.228714524207014,
          37.228714524207014,
          37.228714524207014,
          37.228714524207014,
          37.228714524207014,
          37.228714524207014,
          37.228714524207014,
          37.228714524207014,
          37.228714524207014,
          37.228714524207014,
          37.228714524207014,
          37.228714524207014,
          37.228714524207014,
          37.228714524207014,
          37.228714524207014,
          37.228714524207014,
          37.228714524207014,
          37.228714524207014,
          37.228714524207014,
          37.228714524207014,
          37.228714524207014,
          37.228714524207014,
          37.228714524207014,
          37.228714524207014,
          37.228714524207014,
          37.228714524207014,
          37.228714524207014,
          37.228714524207014,
          37.228714524207014,
          37.228714524207014,
          37.228714524207014,
          37.228714524207014,
          37.228714524207014,
          37.228714524207014,
          37.228714524207014,
          37.228714524207014,
          37.228714524207014,
          37.228714524207014,
          37.228714524207014,
          37.228714524207014,
          37.228714524207014,
          37.228714524207014,
          37.228714524207014,
          37.228714524207014,
          37.228714524207014,
          37.228714524207014,
          37.228714524207014,
          37.228714524207014,
          37.228714524207014,
          37.228714524207014,
          37.228714524207014,
          37.228714524207014,
          37.228714524207014,
          37.228714524207014,
          37.228714524207014,
          37.228714524207014,
          37.228714524207014,
          37.228714524207014,
          37.228714524207014,
          37.228714524207014,
          37.228714524207014,
          37.228714524207014,
          37.228714524207014
         ]
        },
        {
         "mode": "lines",
         "name": "average",
         "type": "scatter",
         "x": [
          1,
          2,
          3,
          4,
          5,
          6,
          7,
          8,
          9,
          10,
          11,
          12,
          13,
          14,
          15,
          16,
          17,
          18,
          19,
          20,
          21,
          22,
          23,
          24,
          25,
          26,
          27,
          28,
          29,
          30,
          31,
          32,
          33,
          34,
          35,
          36,
          37,
          38,
          39,
          40,
          41,
          42,
          43,
          44,
          45,
          46,
          47,
          48,
          49,
          50,
          51,
          52,
          53,
          54,
          55,
          56,
          57,
          58,
          59,
          60,
          61,
          62,
          63,
          64,
          65,
          66,
          67,
          68,
          69,
          70,
          71,
          72,
          73,
          74,
          75,
          76,
          77,
          78,
          79,
          80,
          81,
          82,
          83,
          84,
          85,
          86,
          87,
          88,
          89,
          90,
          91,
          92,
          93,
          94,
          95,
          96,
          97,
          98,
          99,
          100,
          101,
          102,
          103,
          104,
          105,
          106,
          107,
          108,
          109,
          110,
          111,
          112,
          113,
          114,
          115,
          116,
          117,
          118,
          119,
          120,
          121,
          122,
          123,
          124,
          125,
          126,
          127,
          128,
          129,
          130,
          131,
          132,
          133,
          134,
          135,
          136,
          137,
          138,
          139,
          140,
          141,
          142,
          143,
          144,
          145,
          146,
          147,
          148,
          149,
          150,
          151,
          152,
          153,
          154,
          155,
          156,
          157,
          158,
          159,
          160,
          161,
          162,
          163,
          164,
          165,
          166,
          167,
          168,
          169,
          170,
          171,
          172,
          173,
          174,
          175,
          176,
          177,
          178,
          179,
          180,
          181,
          182,
          183,
          184,
          185,
          186,
          187,
          188,
          189,
          190,
          191,
          192,
          193,
          194,
          195,
          196,
          197,
          198,
          199,
          200,
          201,
          202,
          203,
          204,
          205,
          206,
          207,
          208,
          209,
          210,
          211,
          212,
          213,
          214,
          215,
          216,
          217,
          218,
          219,
          220,
          221,
          222,
          223,
          224,
          225,
          226,
          227,
          228,
          229,
          230,
          231,
          232,
          233,
          234,
          235,
          236,
          237,
          238,
          239,
          240
         ],
         "y": [
          0.8664730145633867,
          9.861238569192512,
          12.025598219254315,
          13.242441105546282,
          13.939899833055097,
          14.66889259877574,
          15.334817288072717,
          15.915414579855316,
          16.7779632721202,
          17.03394546466333,
          17.492116490447042,
          17.55703951029494,
          17.759228343535526,
          18.132071971804862,
          18.488221109256173,
          18.729363754405494,
          19.05583379706919,
          19.458356520126134,
          19.738452977184195,
          19.836764978668153,
          19.901687998516046,
          12.126914502890209,
          15.66241332362176,
          16.29001295621136,
          16.885549990725284,
          17.529215358931555,
          18.334260805045442,
          19.009460211463548,
          19.167130402522723,
          19.361899462066404,
          19.649415692821368,
          19.745872750881098,
          19.745872750881098,
          20.07605268039325,
          20.287516230754964,
          20.387683175663142,
          20.515674271934703,
          12.616348190071024,
          16.5935366260751,
          17.510665924689295,
          18.02263030977555,
          18.52902986458913,
          19.30439621591541,
          19.87015396030421,
          20.463735856056392,
          20.751252086811352,
          21.278056019291412,
          22.211092561676864,
          22.99758857354851,
          23.305509181969956,
          23.368577258393618,
          23.604155073270263,
          23.706176961602672,
          23.878686700055646,
          23.995548135781856,
          24.490818030050082,
          24.563160823594878,
          24.973103320348724,
          25.112224077165642,
          12.615133783151178,
          18.23223891671304,
          19.96475607493971,
          20.92561676868855,
          22.018178445557407,
          22.389167130402523,
          23.088480801335553,
          23.544796883695035,
          23.66722314969393,
          23.884251530328317,
          24.210721572992018,
          25.16045260619551,
          25.800408087553325,
          26.527545909849742,
          26.863290669634573,
          27.27508810981265,
          27.434613244296045,
          27.534780189204227,
          27.534780189204227,
          27.725839361899453,
          27.746243739565937,
          15.073808558698088,
          22.080093349916353,
          23.95659432387312,
          24.4629938786867,
          25.55926544240401,
          26.230754961973663,
          26.496011871637915,
          26.796512706362456,
          27.152661843813764,
          27.735114079020597,
          28.410313485438703,
          13.948089320738115,
          21.157484696716747,
          22.945650157670194,
          23.841587831571136,
          24.8043034687442,
          25.05657577443888,
          25.30513819328511,
          25.490632535707668,
          26.258579113337042,
          26.405119643850863,
          27.21387497681321,
          16.018200880105333,
          21.463550361713967,
          22.89000185494342,
          24.205156742719346,
          24.470413652383602,
          25.58894453719161,
          26.464477833426084,
          26.47375255054721,
          27.243554071600816,
          27.351140790205896,
          27.703580040808752,
          15.313585594407778,
          20.352439250602853,
          21.29104062326099,
          22.242626599888702,
          22.609905397885367,
          23.819328510480428,
          24.718976071229836,
          25.29215358931553,
          25.674271934705992,
          26.087924318308293,
          26.544240400667782,
          27.045075125208687,
          27.045075125208687,
          27.314041921721397,
          27.992951214987947,
          15.115349273848542,
          21.90502689667965,
          23.591170469300682,
          24.783899091077725,
          25.32925245780004,
          25.427564459283996,
          26.41253941754777,
          26.887404934149515,
          27.72398441847524,
          28.178445557410498,
          29.120756816917087,
          29.504730105731774,
          29.590057503246147,
          29.83491003524393,
          30.237432758300873,
          30.478575403450193,
          30.77536635132629,
          31.062882582081247,
          31.530328324986097,
          31.94212576516417,
          32.001483954739385,
          32.28158041179744,
          32.4744945279169,
          32.667408644036364,
          32.80467445742905,
          32.87516230754962,
          33.20534223706178,
          33.392691522908564,
          33.392691522908564,
          33.45946948618068,
          33.55221665739196,
          33.57633092190689,
          17.955906328555614,
          21.74550176219624,
          22.93823038397328,
          25.306993136709316,
          25.440549063253563,
          26.349471341124083,
          26.85401595251344,
          27.27879799666109,
          27.97811166759413,
          28.19514004822852,
          28.631051752921525,
          20.55812469216708,
          25.954368391764053,
          27.072899276572066,
          28.117232424411057,
          29.319235763309223,
          30.027824151363383,
          30.263401966240032,
          31.281765906139864,
          31.304025227230568,
          31.9013170098312,
          32.30198478946392,
          19.528578389532324,
          23.414950843999268,
          24.338712669263597,
          25.197551474680033,
          25.9135596364311,
          26.89853459469487,
          27.006121313299953,
          27.690595436839185,
          28.15062140604712,
          29.098497495826386,
          29.274717121127814,
          17.174102949167445,
          22.626599888703403,
          23.715451678723806,
          25.6093489148581,
          27.373400111296608,
          27.941012799109625,
          28.708959376739006,
          29.120756816917083,
          29.714338712669264,
          29.97588573548507,
          30.016694490818033,
          19.496336764746456,
          26.94676312372473,
          28.534594694861813,
          28.690409942496753,
          29.386013726581343,
          29.653125579669823,
          29.731033203487293,
          30.261547022815808,
          30.44147653496569,
          30.667779632721203,
          30.667779632721203,
          17.436966805059907,
          21.339269152290857,
          22.326099053978854,
          24.613244296048972,
          25.101094416620295,
          25.668707104433313,
          26.14171767761083,
          26.269708773882396,
          27.03580040808755,
          27.71841958820256,
          28.174735670562047,
          17.991273561023153,
          22.9780660927357,
          25.891300315340388,
          26.464477833426084,
          28.078278612502324,
          28.56612873307364,
          28.725653867557035,
          29.13374142088666,
          29.282136894824706,
          29.398998330550917,
          29.56594323873122,
          16.79600921028458,
          22.513448339825636,
          24.500092747171216
         ]
        },
        {
         "mode": "lines",
         "name": "worst",
         "type": "scatter",
         "x": [
          1,
          2,
          3,
          4,
          5,
          6,
          7,
          8,
          9,
          10,
          11,
          12,
          13,
          14,
          15,
          16,
          17,
          18,
          19,
          20,
          21,
          22,
          23,
          24,
          25,
          26,
          27,
          28,
          29,
          30,
          31,
          32,
          33,
          34,
          35,
          36,
          37,
          38,
          39,
          40,
          41,
          42,
          43,
          44,
          45,
          46,
          47,
          48,
          49,
          50,
          51,
          52,
          53,
          54,
          55,
          56,
          57,
          58,
          59,
          60,
          61,
          62,
          63,
          64,
          65,
          66,
          67,
          68,
          69,
          70,
          71,
          72,
          73,
          74,
          75,
          76,
          77,
          78,
          79,
          80,
          81,
          82,
          83,
          84,
          85,
          86,
          87,
          88,
          89,
          90,
          91,
          92,
          93,
          94,
          95,
          96,
          97,
          98,
          99,
          100,
          101,
          102,
          103,
          104,
          105,
          106,
          107,
          108,
          109,
          110,
          111,
          112,
          113,
          114,
          115,
          116,
          117,
          118,
          119,
          120,
          121,
          122,
          123,
          124,
          125,
          126,
          127,
          128,
          129,
          130,
          131,
          132,
          133,
          134,
          135,
          136,
          137,
          138,
          139,
          140,
          141,
          142,
          143,
          144,
          145,
          146,
          147,
          148,
          149,
          150,
          151,
          152,
          153,
          154,
          155,
          156,
          157,
          158,
          159,
          160,
          161,
          162,
          163,
          164,
          165,
          166,
          167,
          168,
          169,
          170,
          171,
          172,
          173,
          174,
          175,
          176,
          177,
          178,
          179,
          180,
          181,
          182,
          183,
          184,
          185,
          186,
          187,
          188,
          189,
          190,
          191,
          192,
          193,
          194,
          195,
          196,
          197,
          198,
          199,
          200,
          201,
          202,
          203,
          204,
          205,
          206,
          207,
          208,
          209,
          210,
          211,
          212,
          213,
          214,
          215,
          216,
          217,
          218,
          219,
          220,
          221,
          222,
          223,
          224,
          225,
          226,
          227,
          228,
          229,
          230,
          231,
          232,
          233,
          234,
          235,
          236,
          237,
          238,
          239,
          240
         ],
         "y": [
          0.4338342646935653,
          3.3211256356431513,
          6.51085141903172,
          6.733444629938787,
          6.733444629938787,
          7.957707289927657,
          7.957707289927657,
          10.740122426266,
          11.296605453533667,
          13.02170283806344,
          13.411240957150808,
          13.411240957150808,
          13.411240957150808,
          13.411240957150808,
          13.411240957150808,
          15.63717306622148,
          15.63717306622148,
          15.63717306622148,
          16.805787423483583,
          17.139677239844183,
          17.139677239844183,
          0.6374448391156867,
          2.392877017250974,
          3.450194769059544,
          6.3439065108514185,
          10.406232609905398,
          11.407902058987201,
          11.407902058987201,
          13.633834168057874,
          13.633834168057874,
          13.633834168057874,
          14.24596549805231,
          14.24596549805231,
          14.24596549805231,
          15.525876460767945,
          15.525876460767945,
          15.525876460767945,
          0.8013280397001233,
          4.03870868765091,
          9.515859766277128,
          10.740122426266,
          10.740122426266,
          11.5748469671675,
          13.745130773511407,
          13.745130773511407,
          13.745130773511407,
          13.745130773511407,
          13.745130773511407,
          13.745130773511407,
          17.084028937117417,
          17.084028937117417,
          17.084028937117417,
          17.084028937117417,
          17.084028937117417,
          17.084028937117417,
          17.084028937117417,
          17.250973845297718,
          17.250973845297718,
          17.250973845297718,
          0.6897585971256032,
          5.78742348358375,
          6.455203116304952,
          7.178631051752922,
          10.01669449081803,
          10.01669449081803,
          10.01669449081803,
          11.5748469671675,
          11.5748469671675,
          14.07902058987201,
          14.07902058987201,
          15.191986644407345,
          16.026711185308848,
          16.026711185308848,
          16.026711185308848,
          19.755147468002228,
          21.42459654980523,
          21.42459654980523,
          21.42459654980523,
          21.42459654980523,
          21.42459654980523,
          0.6751278015058051,
          5.752828321642062,
          10.51752921535893,
          10.851419031719532,
          10.851419031719532,
          10.851419031719532,
          13.578185865331108,
          13.578185865331108,
          13.578185865331108,
          16.638842515303285,
          23.03839732888147,
          0.6106976153472541,
          4.674457429048414,
          8.347245409015025,
          9.29326655537006,
          12.242626599888704,
          12.242626599888704,
          15.080690038953811,
          15.971062882582082,
          15.971062882582082,
          15.971062882582082,
          15.971062882582082,
          0.6709317753379306,
          7.178631051752922,
          9.738452977184195,
          10.740122426266,
          10.740122426266,
          13.299944351697274,
          16.193656093489146,
          16.193656093489146,
          16.193656093489146,
          16.193656093489146,
          18.363939899833053,
          0.752164129099163,
          9.404563160823596,
          9.404563160823596,
          9.571508069003896,
          9.571508069003896,
          10.072342793544797,
          11.407902058987201,
          11.407902058987201,
          15.47022815804118,
          15.47022815804118,
          15.47022815804118,
          15.47022815804118,
          15.47022815804118,
          15.47022815804118,
          15.47022815804118,
          0.9159040308095836,
          8.79243183082916,
          14.635503617139678,
          14.635503617139678,
          14.635503617139678,
          14.635503617139678,
          14.635503617139678,
          17.362270450751254,
          17.362270450751254,
          18.80912632164719,
          21.59154145798553,
          21.59154145798553,
          21.59154145798553,
          21.59154145798553,
          23.03839732888147,
          23.03839732888147,
          25.153032832498607,
          25.153032832498607,
          26.04340567612688,
          26.878130217028378,
          26.878130217028378,
          28.32498608792432,
          28.71452420701169,
          28.71452420701169,
          29.604897050639956,
          29.604897050639956,
          29.604897050639956,
          29.994435169727325,
          29.994435169727325,
          29.994435169727325,
          29.994435169727325,
          29.994435169727325,
          0.7557603943092183,
          8.514190317195327,
          9.794101279910963,
          9.794101279910963,
          10.740122426266,
          13.299944351697274,
          14.023372287145241,
          14.023372287145241,
          14.023372287145241,
          14.023372287145241,
          14.023372287145241,
          1.0272544263265952,
          6.622148024485252,
          10.01669449081803,
          11.853088480801336,
          11.853088480801336,
          12.075681691708402,
          12.075681691708402,
          20.868113522537563,
          21.42459654980523,
          22.148024485253202,
          23.650528658875906,
          0.5325572373348129,
          9.627156371730662,
          10.01669449081803,
          10.684474123539232,
          10.684474123539232,
          11.519198664440735,
          11.519198664440735,
          14.802448525319978,
          14.802448525319978,
          15.30328324986088,
          15.30328324986088,
          0.5237501148731352,
          9.627156371730662,
          10.01669449081803,
          10.01669449081803,
          15.915414579855314,
          16.750139120756817,
          18.697829716193656,
          21.8141346688926,
          21.8141346688926,
          21.8141346688926,
          21.8141346688926,
          0.7074118800070303,
          9.070673344462994,
          13.689482470784641,
          14.134668892598775,
          14.524207011686144,
          14.524207011686144,
          16.638842515303285,
          19.755147468002228,
          19.755147468002228,
          19.755147468002228,
          19.755147468002228,
          1.0098418935527538,
          7.289927657206455,
          8.347245409015025,
          10.127991096271565,
          10.127991096271565,
          10.127991096271565,
          12.409571508069003,
          15.525876460767945,
          17.91875347801892,
          17.91875347801892,
          17.91875347801892,
          0.7230583970454268,
          5.509181969949917,
          13.299944351697274,
          13.299944351697274,
          14.134668892598775,
          14.134668892598775,
          16.30495269894268,
          16.30495269894268,
          16.30495269894268,
          16.30495269894268,
          16.86143572621035,
          1.0229619692333052,
          8.402893711741791,
          9.961046188091263
         ]
        }
       ],
       "layout": {
        "legend": {
         "title": {
          "text": "Accuracy Type"
         }
        },
        "template": {
         "data": {
          "bar": [
           {
            "error_x": {
             "color": "#2a3f5f"
            },
            "error_y": {
             "color": "#2a3f5f"
            },
            "marker": {
             "line": {
              "color": "#E5ECF6",
              "width": 0.5
             },
             "pattern": {
              "fillmode": "overlay",
              "size": 10,
              "solidity": 0.2
             }
            },
            "type": "bar"
           }
          ],
          "barpolar": [
           {
            "marker": {
             "line": {
              "color": "#E5ECF6",
              "width": 0.5
             },
             "pattern": {
              "fillmode": "overlay",
              "size": 10,
              "solidity": 0.2
             }
            },
            "type": "barpolar"
           }
          ],
          "carpet": [
           {
            "aaxis": {
             "endlinecolor": "#2a3f5f",
             "gridcolor": "white",
             "linecolor": "white",
             "minorgridcolor": "white",
             "startlinecolor": "#2a3f5f"
            },
            "baxis": {
             "endlinecolor": "#2a3f5f",
             "gridcolor": "white",
             "linecolor": "white",
             "minorgridcolor": "white",
             "startlinecolor": "#2a3f5f"
            },
            "type": "carpet"
           }
          ],
          "choropleth": [
           {
            "colorbar": {
             "outlinewidth": 0,
             "ticks": ""
            },
            "type": "choropleth"
           }
          ],
          "contour": [
           {
            "colorbar": {
             "outlinewidth": 0,
             "ticks": ""
            },
            "colorscale": [
             [
              0,
              "#0d0887"
             ],
             [
              0.1111111111111111,
              "#46039f"
             ],
             [
              0.2222222222222222,
              "#7201a8"
             ],
             [
              0.3333333333333333,
              "#9c179e"
             ],
             [
              0.4444444444444444,
              "#bd3786"
             ],
             [
              0.5555555555555556,
              "#d8576b"
             ],
             [
              0.6666666666666666,
              "#ed7953"
             ],
             [
              0.7777777777777778,
              "#fb9f3a"
             ],
             [
              0.8888888888888888,
              "#fdca26"
             ],
             [
              1,
              "#f0f921"
             ]
            ],
            "type": "contour"
           }
          ],
          "contourcarpet": [
           {
            "colorbar": {
             "outlinewidth": 0,
             "ticks": ""
            },
            "type": "contourcarpet"
           }
          ],
          "heatmap": [
           {
            "colorbar": {
             "outlinewidth": 0,
             "ticks": ""
            },
            "colorscale": [
             [
              0,
              "#0d0887"
             ],
             [
              0.1111111111111111,
              "#46039f"
             ],
             [
              0.2222222222222222,
              "#7201a8"
             ],
             [
              0.3333333333333333,
              "#9c179e"
             ],
             [
              0.4444444444444444,
              "#bd3786"
             ],
             [
              0.5555555555555556,
              "#d8576b"
             ],
             [
              0.6666666666666666,
              "#ed7953"
             ],
             [
              0.7777777777777778,
              "#fb9f3a"
             ],
             [
              0.8888888888888888,
              "#fdca26"
             ],
             [
              1,
              "#f0f921"
             ]
            ],
            "type": "heatmap"
           }
          ],
          "heatmapgl": [
           {
            "colorbar": {
             "outlinewidth": 0,
             "ticks": ""
            },
            "colorscale": [
             [
              0,
              "#0d0887"
             ],
             [
              0.1111111111111111,
              "#46039f"
             ],
             [
              0.2222222222222222,
              "#7201a8"
             ],
             [
              0.3333333333333333,
              "#9c179e"
             ],
             [
              0.4444444444444444,
              "#bd3786"
             ],
             [
              0.5555555555555556,
              "#d8576b"
             ],
             [
              0.6666666666666666,
              "#ed7953"
             ],
             [
              0.7777777777777778,
              "#fb9f3a"
             ],
             [
              0.8888888888888888,
              "#fdca26"
             ],
             [
              1,
              "#f0f921"
             ]
            ],
            "type": "heatmapgl"
           }
          ],
          "histogram": [
           {
            "marker": {
             "pattern": {
              "fillmode": "overlay",
              "size": 10,
              "solidity": 0.2
             }
            },
            "type": "histogram"
           }
          ],
          "histogram2d": [
           {
            "colorbar": {
             "outlinewidth": 0,
             "ticks": ""
            },
            "colorscale": [
             [
              0,
              "#0d0887"
             ],
             [
              0.1111111111111111,
              "#46039f"
             ],
             [
              0.2222222222222222,
              "#7201a8"
             ],
             [
              0.3333333333333333,
              "#9c179e"
             ],
             [
              0.4444444444444444,
              "#bd3786"
             ],
             [
              0.5555555555555556,
              "#d8576b"
             ],
             [
              0.6666666666666666,
              "#ed7953"
             ],
             [
              0.7777777777777778,
              "#fb9f3a"
             ],
             [
              0.8888888888888888,
              "#fdca26"
             ],
             [
              1,
              "#f0f921"
             ]
            ],
            "type": "histogram2d"
           }
          ],
          "histogram2dcontour": [
           {
            "colorbar": {
             "outlinewidth": 0,
             "ticks": ""
            },
            "colorscale": [
             [
              0,
              "#0d0887"
             ],
             [
              0.1111111111111111,
              "#46039f"
             ],
             [
              0.2222222222222222,
              "#7201a8"
             ],
             [
              0.3333333333333333,
              "#9c179e"
             ],
             [
              0.4444444444444444,
              "#bd3786"
             ],
             [
              0.5555555555555556,
              "#d8576b"
             ],
             [
              0.6666666666666666,
              "#ed7953"
             ],
             [
              0.7777777777777778,
              "#fb9f3a"
             ],
             [
              0.8888888888888888,
              "#fdca26"
             ],
             [
              1,
              "#f0f921"
             ]
            ],
            "type": "histogram2dcontour"
           }
          ],
          "mesh3d": [
           {
            "colorbar": {
             "outlinewidth": 0,
             "ticks": ""
            },
            "type": "mesh3d"
           }
          ],
          "parcoords": [
           {
            "line": {
             "colorbar": {
              "outlinewidth": 0,
              "ticks": ""
             }
            },
            "type": "parcoords"
           }
          ],
          "pie": [
           {
            "automargin": true,
            "type": "pie"
           }
          ],
          "scatter": [
           {
            "fillpattern": {
             "fillmode": "overlay",
             "size": 10,
             "solidity": 0.2
            },
            "type": "scatter"
           }
          ],
          "scatter3d": [
           {
            "line": {
             "colorbar": {
              "outlinewidth": 0,
              "ticks": ""
             }
            },
            "marker": {
             "colorbar": {
              "outlinewidth": 0,
              "ticks": ""
             }
            },
            "type": "scatter3d"
           }
          ],
          "scattercarpet": [
           {
            "marker": {
             "colorbar": {
              "outlinewidth": 0,
              "ticks": ""
             }
            },
            "type": "scattercarpet"
           }
          ],
          "scattergeo": [
           {
            "marker": {
             "colorbar": {
              "outlinewidth": 0,
              "ticks": ""
             }
            },
            "type": "scattergeo"
           }
          ],
          "scattergl": [
           {
            "marker": {
             "colorbar": {
              "outlinewidth": 0,
              "ticks": ""
             }
            },
            "type": "scattergl"
           }
          ],
          "scattermapbox": [
           {
            "marker": {
             "colorbar": {
              "outlinewidth": 0,
              "ticks": ""
             }
            },
            "type": "scattermapbox"
           }
          ],
          "scatterpolar": [
           {
            "marker": {
             "colorbar": {
              "outlinewidth": 0,
              "ticks": ""
             }
            },
            "type": "scatterpolar"
           }
          ],
          "scatterpolargl": [
           {
            "marker": {
             "colorbar": {
              "outlinewidth": 0,
              "ticks": ""
             }
            },
            "type": "scatterpolargl"
           }
          ],
          "scatterternary": [
           {
            "marker": {
             "colorbar": {
              "outlinewidth": 0,
              "ticks": ""
             }
            },
            "type": "scatterternary"
           }
          ],
          "surface": [
           {
            "colorbar": {
             "outlinewidth": 0,
             "ticks": ""
            },
            "colorscale": [
             [
              0,
              "#0d0887"
             ],
             [
              0.1111111111111111,
              "#46039f"
             ],
             [
              0.2222222222222222,
              "#7201a8"
             ],
             [
              0.3333333333333333,
              "#9c179e"
             ],
             [
              0.4444444444444444,
              "#bd3786"
             ],
             [
              0.5555555555555556,
              "#d8576b"
             ],
             [
              0.6666666666666666,
              "#ed7953"
             ],
             [
              0.7777777777777778,
              "#fb9f3a"
             ],
             [
              0.8888888888888888,
              "#fdca26"
             ],
             [
              1,
              "#f0f921"
             ]
            ],
            "type": "surface"
           }
          ],
          "table": [
           {
            "cells": {
             "fill": {
              "color": "#EBF0F8"
             },
             "line": {
              "color": "white"
             }
            },
            "header": {
             "fill": {
              "color": "#C8D4E3"
             },
             "line": {
              "color": "white"
             }
            },
            "type": "table"
           }
          ]
         },
         "layout": {
          "annotationdefaults": {
           "arrowcolor": "#2a3f5f",
           "arrowhead": 0,
           "arrowwidth": 1
          },
          "autotypenumbers": "strict",
          "coloraxis": {
           "colorbar": {
            "outlinewidth": 0,
            "ticks": ""
           }
          },
          "colorscale": {
           "diverging": [
            [
             0,
             "#8e0152"
            ],
            [
             0.1,
             "#c51b7d"
            ],
            [
             0.2,
             "#de77ae"
            ],
            [
             0.3,
             "#f1b6da"
            ],
            [
             0.4,
             "#fde0ef"
            ],
            [
             0.5,
             "#f7f7f7"
            ],
            [
             0.6,
             "#e6f5d0"
            ],
            [
             0.7,
             "#b8e186"
            ],
            [
             0.8,
             "#7fbc41"
            ],
            [
             0.9,
             "#4d9221"
            ],
            [
             1,
             "#276419"
            ]
           ],
           "sequential": [
            [
             0,
             "#0d0887"
            ],
            [
             0.1111111111111111,
             "#46039f"
            ],
            [
             0.2222222222222222,
             "#7201a8"
            ],
            [
             0.3333333333333333,
             "#9c179e"
            ],
            [
             0.4444444444444444,
             "#bd3786"
            ],
            [
             0.5555555555555556,
             "#d8576b"
            ],
            [
             0.6666666666666666,
             "#ed7953"
            ],
            [
             0.7777777777777778,
             "#fb9f3a"
            ],
            [
             0.8888888888888888,
             "#fdca26"
            ],
            [
             1,
             "#f0f921"
            ]
           ],
           "sequentialminus": [
            [
             0,
             "#0d0887"
            ],
            [
             0.1111111111111111,
             "#46039f"
            ],
            [
             0.2222222222222222,
             "#7201a8"
            ],
            [
             0.3333333333333333,
             "#9c179e"
            ],
            [
             0.4444444444444444,
             "#bd3786"
            ],
            [
             0.5555555555555556,
             "#d8576b"
            ],
            [
             0.6666666666666666,
             "#ed7953"
            ],
            [
             0.7777777777777778,
             "#fb9f3a"
            ],
            [
             0.8888888888888888,
             "#fdca26"
            ],
            [
             1,
             "#f0f921"
            ]
           ]
          },
          "colorway": [
           "#636efa",
           "#EF553B",
           "#00cc96",
           "#ab63fa",
           "#FFA15A",
           "#19d3f3",
           "#FF6692",
           "#B6E880",
           "#FF97FF",
           "#FECB52"
          ],
          "font": {
           "color": "#2a3f5f"
          },
          "geo": {
           "bgcolor": "white",
           "lakecolor": "white",
           "landcolor": "#E5ECF6",
           "showlakes": true,
           "showland": true,
           "subunitcolor": "white"
          },
          "hoverlabel": {
           "align": "left"
          },
          "hovermode": "closest",
          "mapbox": {
           "style": "light"
          },
          "paper_bgcolor": "white",
          "plot_bgcolor": "#E5ECF6",
          "polar": {
           "angularaxis": {
            "gridcolor": "white",
            "linecolor": "white",
            "ticks": ""
           },
           "bgcolor": "#E5ECF6",
           "radialaxis": {
            "gridcolor": "white",
            "linecolor": "white",
            "ticks": ""
           }
          },
          "scene": {
           "xaxis": {
            "backgroundcolor": "#E5ECF6",
            "gridcolor": "white",
            "gridwidth": 2,
            "linecolor": "white",
            "showbackground": true,
            "ticks": "",
            "zerolinecolor": "white"
           },
           "yaxis": {
            "backgroundcolor": "#E5ECF6",
            "gridcolor": "white",
            "gridwidth": 2,
            "linecolor": "white",
            "showbackground": true,
            "ticks": "",
            "zerolinecolor": "white"
           },
           "zaxis": {
            "backgroundcolor": "#E5ECF6",
            "gridcolor": "white",
            "gridwidth": 2,
            "linecolor": "white",
            "showbackground": true,
            "ticks": "",
            "zerolinecolor": "white"
           }
          },
          "shapedefaults": {
           "line": {
            "color": "#2a3f5f"
           }
          },
          "ternary": {
           "aaxis": {
            "gridcolor": "white",
            "linecolor": "white",
            "ticks": ""
           },
           "baxis": {
            "gridcolor": "white",
            "linecolor": "white",
            "ticks": ""
           },
           "bgcolor": "#E5ECF6",
           "caxis": {
            "gridcolor": "white",
            "linecolor": "white",
            "ticks": ""
           }
          },
          "title": {
           "x": 0.05
          },
          "xaxis": {
           "automargin": true,
           "gridcolor": "white",
           "linecolor": "white",
           "ticks": "",
           "title": {
            "standoff": 15
           },
           "zerolinecolor": "white",
           "zerolinewidth": 2
          },
          "yaxis": {
           "automargin": true,
           "gridcolor": "white",
           "linecolor": "white",
           "ticks": "",
           "title": {
            "standoff": 15
           },
           "zerolinecolor": "white",
           "zerolinewidth": 2
          }
         }
        },
        "title": {
         "text": "Evolution of Accuracy"
        },
        "xaxis": {
         "title": {
          "text": "Iteration"
         }
        },
        "yaxis": {
         "title": {
          "text": "Accuracy"
         }
        }
       }
      }
     },
     "metadata": {},
     "output_type": "display_data"
    }
   ],
   "source": [
    "plot_history(history)"
   ]
  },
  {
   "cell_type": "code",
   "execution_count": 3,
   "metadata": {},
   "outputs": [
    {
     "name": "stdout",
     "output_type": "stream",
     "text": [
      "WARNING:tensorflow:From c:\\Users\\msi\\anaconda3\\envs\\testEnv\\Lib\\site-packages\\keras\\src\\losses.py:2976: The name tf.losses.sparse_softmax_cross_entropy is deprecated. Please use tf.compat.v1.losses.sparse_softmax_cross_entropy instead.\n",
      "\n",
      "WARNING:tensorflow:From c:\\Users\\msi\\anaconda3\\envs\\testEnv\\Lib\\site-packages\\keras\\src\\backend.py:873: The name tf.get_default_graph is deprecated. Please use tf.compat.v1.get_default_graph instead.\n",
      "\n",
      "WARNING:tensorflow:From c:\\Users\\msi\\anaconda3\\envs\\testEnv\\Lib\\site-packages\\keras\\src\\optimizers\\__init__.py:309: The name tf.train.Optimizer is deprecated. Please use tf.compat.v1.train.Optimizer instead.\n",
      "\n",
      "Epoch 1/100\n",
      "WARNING:tensorflow:From c:\\Users\\msi\\anaconda3\\envs\\testEnv\\Lib\\site-packages\\keras\\src\\utils\\tf_utils.py:492: The name tf.ragged.RaggedTensorValue is deprecated. Please use tf.compat.v1.ragged.RaggedTensorValue instead.\n",
      "\n",
      "WARNING:tensorflow:From c:\\Users\\msi\\anaconda3\\envs\\testEnv\\Lib\\site-packages\\keras\\src\\engine\\base_layer_utils.py:384: The name tf.executing_eagerly_outside_functions is deprecated. Please use tf.compat.v1.executing_eagerly_outside_functions instead.\n",
      "\n",
      "2/2 [==============================] - 2s 18ms/step - loss: 2.3417 - accuracy: 0.1024\n",
      "Epoch 2/100\n",
      "2/2 [==============================] - 0s 9ms/step - loss: 2.2664 - accuracy: 0.1247\n",
      "Epoch 3/100\n",
      "2/2 [==============================] - 0s 8ms/step - loss: 2.2244 - accuracy: 0.1519\n",
      "Epoch 4/100\n",
      "2/2 [==============================] - 0s 10ms/step - loss: 2.1915 - accuracy: 0.1892\n",
      "Epoch 5/100\n",
      "2/2 [==============================] - 0s 8ms/step - loss: 2.1611 - accuracy: 0.1998\n",
      "Epoch 6/100\n",
      "2/2 [==============================] - 0s 12ms/step - loss: 2.1300 - accuracy: 0.2666\n",
      "Epoch 7/100\n",
      "2/2 [==============================] - 0s 9ms/step - loss: 2.1035 - accuracy: 0.2821\n",
      "Epoch 8/100\n",
      "2/2 [==============================] - 0s 8ms/step - loss: 2.0768 - accuracy: 0.3144\n",
      "Epoch 9/100\n",
      "2/2 [==============================] - 0s 10ms/step - loss: 2.0491 - accuracy: 0.3612\n",
      "Epoch 10/100\n",
      "2/2 [==============================] - 0s 8ms/step - loss: 2.0216 - accuracy: 0.3923\n",
      "Epoch 11/100\n",
      "2/2 [==============================] - 0s 7ms/step - loss: 1.9940 - accuracy: 0.4129\n",
      "Epoch 12/100\n",
      "2/2 [==============================] - 0s 7ms/step - loss: 1.9662 - accuracy: 0.4274\n",
      "Epoch 13/100\n",
      "2/2 [==============================] - 0s 10ms/step - loss: 1.9387 - accuracy: 0.4725\n",
      "Epoch 14/100\n",
      "2/2 [==============================] - 0s 7ms/step - loss: 1.9103 - accuracy: 0.4780\n",
      "Epoch 15/100\n",
      "2/2 [==============================] - 0s 6ms/step - loss: 1.8804 - accuracy: 0.5014\n",
      "Epoch 16/100\n",
      "2/2 [==============================] - 0s 7ms/step - loss: 1.8514 - accuracy: 0.5131\n",
      "Epoch 17/100\n",
      "2/2 [==============================] - 0s 10ms/step - loss: 1.8206 - accuracy: 0.5676\n",
      "Epoch 18/100\n",
      "2/2 [==============================] - 0s 7ms/step - loss: 1.7902 - accuracy: 0.5654\n",
      "Epoch 19/100\n",
      "2/2 [==============================] - 0s 6ms/step - loss: 1.7579 - accuracy: 0.6027\n",
      "Epoch 20/100\n",
      "2/2 [==============================] - 0s 7ms/step - loss: 1.7277 - accuracy: 0.6038\n",
      "Epoch 21/100\n",
      "2/2 [==============================] - 0s 10ms/step - loss: 1.6964 - accuracy: 0.6311\n",
      "Epoch 22/100\n",
      "2/2 [==============================] - 0s 11ms/step - loss: 1.6652 - accuracy: 0.6344\n",
      "Epoch 23/100\n",
      "2/2 [==============================] - 0s 11ms/step - loss: 1.6331 - accuracy: 0.6505\n",
      "Epoch 24/100\n",
      "2/2 [==============================] - 0s 9ms/step - loss: 1.6013 - accuracy: 0.6605\n",
      "Epoch 25/100\n",
      "2/2 [==============================] - 0s 12ms/step - loss: 1.5663 - accuracy: 0.6678\n",
      "Epoch 26/100\n",
      "2/2 [==============================] - 0s 10ms/step - loss: 1.5373 - accuracy: 0.6795\n",
      "Epoch 27/100\n",
      "2/2 [==============================] - 0s 11ms/step - loss: 1.5048 - accuracy: 0.6984\n",
      "Epoch 28/100\n",
      "2/2 [==============================] - 0s 10ms/step - loss: 1.4753 - accuracy: 0.6939\n",
      "Epoch 29/100\n",
      "2/2 [==============================] - 0s 8ms/step - loss: 1.4450 - accuracy: 0.6984\n",
      "Epoch 30/100\n",
      "2/2 [==============================] - 0s 8ms/step - loss: 1.4108 - accuracy: 0.7056\n",
      "Epoch 31/100\n",
      "2/2 [==============================] - 0s 8ms/step - loss: 1.3790 - accuracy: 0.7179\n",
      "Epoch 32/100\n",
      "2/2 [==============================] - 0s 9ms/step - loss: 1.3467 - accuracy: 0.7140\n",
      "Epoch 33/100\n",
      "2/2 [==============================] - 0s 12ms/step - loss: 1.3146 - accuracy: 0.7284\n",
      "Epoch 34/100\n",
      "2/2 [==============================] - 0s 9ms/step - loss: 1.2832 - accuracy: 0.7507\n",
      "Epoch 35/100\n",
      "2/2 [==============================] - 0s 10ms/step - loss: 1.2538 - accuracy: 0.7618\n",
      "Epoch 36/100\n",
      "2/2 [==============================] - 0s 12ms/step - loss: 1.2216 - accuracy: 0.7752\n",
      "Epoch 37/100\n",
      "2/2 [==============================] - 0s 9ms/step - loss: 1.1947 - accuracy: 0.7835\n",
      "Epoch 38/100\n",
      "2/2 [==============================] - 0s 9ms/step - loss: 1.1661 - accuracy: 0.7896\n",
      "Epoch 39/100\n",
      "2/2 [==============================] - 0s 11ms/step - loss: 1.1366 - accuracy: 0.8114\n",
      "Epoch 40/100\n",
      "2/2 [==============================] - 0s 10ms/step - loss: 1.1081 - accuracy: 0.8114\n",
      "Epoch 41/100\n",
      "2/2 [==============================] - 0s 7ms/step - loss: 1.0814 - accuracy: 0.8152\n",
      "Epoch 42/100\n",
      "2/2 [==============================] - 0s 10ms/step - loss: 1.0553 - accuracy: 0.8197\n",
      "Epoch 43/100\n",
      "2/2 [==============================] - 0s 11ms/step - loss: 1.0278 - accuracy: 0.8180\n",
      "Epoch 44/100\n",
      "2/2 [==============================] - 0s 12ms/step - loss: 1.0058 - accuracy: 0.8258\n",
      "Epoch 45/100\n",
      "2/2 [==============================] - 0s 11ms/step - loss: 0.9764 - accuracy: 0.8353\n",
      "Epoch 46/100\n",
      "2/2 [==============================] - 0s 10ms/step - loss: 0.9524 - accuracy: 0.8264\n",
      "Epoch 47/100\n",
      "2/2 [==============================] - 0s 14ms/step - loss: 0.9288 - accuracy: 0.8370\n",
      "Epoch 48/100\n",
      "2/2 [==============================] - 0s 10ms/step - loss: 0.9058 - accuracy: 0.8459\n",
      "Epoch 49/100\n",
      "2/2 [==============================] - 0s 10ms/step - loss: 0.8848 - accuracy: 0.8531\n",
      "Epoch 50/100\n",
      "2/2 [==============================] - 0s 10ms/step - loss: 0.8566 - accuracy: 0.8609\n",
      "Epoch 51/100\n",
      "2/2 [==============================] - 0s 8ms/step - loss: 0.8400 - accuracy: 0.8592\n",
      "Epoch 52/100\n",
      "2/2 [==============================] - 0s 6ms/step - loss: 0.8153 - accuracy: 0.8637\n",
      "Epoch 53/100\n",
      "2/2 [==============================] - 0s 11ms/step - loss: 0.7958 - accuracy: 0.8620\n",
      "Epoch 54/100\n",
      "2/2 [==============================] - 0s 8ms/step - loss: 0.7743 - accuracy: 0.8748\n",
      "Epoch 55/100\n",
      "2/2 [==============================] - 0s 7ms/step - loss: 0.7553 - accuracy: 0.8770\n",
      "Epoch 56/100\n",
      "2/2 [==============================] - 0s 9ms/step - loss: 0.7363 - accuracy: 0.8787\n",
      "Epoch 57/100\n",
      "2/2 [==============================] - 0s 9ms/step - loss: 0.7200 - accuracy: 0.8726\n",
      "Epoch 58/100\n",
      "2/2 [==============================] - 0s 9ms/step - loss: 0.6977 - accuracy: 0.8798\n",
      "Epoch 59/100\n",
      "2/2 [==============================] - 0s 7ms/step - loss: 0.6814 - accuracy: 0.8820\n",
      "Epoch 60/100\n",
      "2/2 [==============================] - 0s 10ms/step - loss: 0.6662 - accuracy: 0.8809\n",
      "Epoch 61/100\n",
      "2/2 [==============================] - 0s 9ms/step - loss: 0.6492 - accuracy: 0.8709\n",
      "Epoch 62/100\n",
      "2/2 [==============================] - 0s 11ms/step - loss: 0.6287 - accuracy: 0.8865\n",
      "Epoch 63/100\n",
      "2/2 [==============================] - 0s 21ms/step - loss: 0.6190 - accuracy: 0.8887\n",
      "Epoch 64/100\n",
      "2/2 [==============================] - 0s 20ms/step - loss: 0.5977 - accuracy: 0.8954\n",
      "Epoch 65/100\n",
      "2/2 [==============================] - 0s 10ms/step - loss: 0.5854 - accuracy: 0.9054\n",
      "Epoch 66/100\n",
      "2/2 [==============================] - 0s 39ms/step - loss: 0.5721 - accuracy: 0.8976\n",
      "Epoch 67/100\n",
      "2/2 [==============================] - 0s 10ms/step - loss: 0.5577 - accuracy: 0.8987\n",
      "Epoch 68/100\n",
      "2/2 [==============================] - 0s 12ms/step - loss: 0.5430 - accuracy: 0.9043\n",
      "Epoch 69/100\n",
      "2/2 [==============================] - 0s 9ms/step - loss: 0.5281 - accuracy: 0.9093\n",
      "Epoch 70/100\n",
      "2/2 [==============================] - 0s 6ms/step - loss: 0.5180 - accuracy: 0.9071\n",
      "Epoch 71/100\n",
      "2/2 [==============================] - 0s 9ms/step - loss: 0.5064 - accuracy: 0.9137\n",
      "Epoch 72/100\n",
      "2/2 [==============================] - 0s 10ms/step - loss: 0.5018 - accuracy: 0.9082\n",
      "Epoch 73/100\n",
      "2/2 [==============================] - 0s 19ms/step - loss: 0.4878 - accuracy: 0.9098\n",
      "Epoch 74/100\n",
      "2/2 [==============================] - 0s 12ms/step - loss: 0.4714 - accuracy: 0.9165\n",
      "Epoch 75/100\n",
      "2/2 [==============================] - 0s 14ms/step - loss: 0.4602 - accuracy: 0.9188\n",
      "Epoch 76/100\n",
      "2/2 [==============================] - 0s 16ms/step - loss: 0.4548 - accuracy: 0.9188\n",
      "Epoch 77/100\n",
      "2/2 [==============================] - 0s 10ms/step - loss: 0.4395 - accuracy: 0.9249\n",
      "Epoch 78/100\n",
      "2/2 [==============================] - 0s 15ms/step - loss: 0.4323 - accuracy: 0.9204\n",
      "Epoch 79/100\n",
      "2/2 [==============================] - 0s 12ms/step - loss: 0.4255 - accuracy: 0.9210\n",
      "Epoch 80/100\n",
      "2/2 [==============================] - 0s 12ms/step - loss: 0.4129 - accuracy: 0.9238\n",
      "Epoch 81/100\n",
      "2/2 [==============================] - 0s 7ms/step - loss: 0.4048 - accuracy: 0.9232\n",
      "Epoch 82/100\n",
      "2/2 [==============================] - 0s 10ms/step - loss: 0.3938 - accuracy: 0.9293\n",
      "Epoch 83/100\n",
      "2/2 [==============================] - 0s 8ms/step - loss: 0.3871 - accuracy: 0.9260\n",
      "Epoch 84/100\n",
      "2/2 [==============================] - 0s 13ms/step - loss: 0.3784 - accuracy: 0.9293\n",
      "Epoch 85/100\n",
      "2/2 [==============================] - 0s 10ms/step - loss: 0.3719 - accuracy: 0.9327\n",
      "Epoch 86/100\n",
      "2/2 [==============================] - 0s 8ms/step - loss: 0.3661 - accuracy: 0.9260\n",
      "Epoch 87/100\n",
      "2/2 [==============================] - 0s 11ms/step - loss: 0.3572 - accuracy: 0.9271\n",
      "Epoch 88/100\n",
      "2/2 [==============================] - 0s 9ms/step - loss: 0.3496 - accuracy: 0.9304\n",
      "Epoch 89/100\n",
      "2/2 [==============================] - 0s 8ms/step - loss: 0.3407 - accuracy: 0.9343\n",
      "Epoch 90/100\n",
      "2/2 [==============================] - 0s 10ms/step - loss: 0.3336 - accuracy: 0.9377\n",
      "Epoch 91/100\n",
      "2/2 [==============================] - 0s 11ms/step - loss: 0.3273 - accuracy: 0.9349\n",
      "Epoch 92/100\n",
      "2/2 [==============================] - 0s 9ms/step - loss: 0.3232 - accuracy: 0.9354\n",
      "Epoch 93/100\n",
      "2/2 [==============================] - 0s 8ms/step - loss: 0.3170 - accuracy: 0.9427\n",
      "Epoch 94/100\n",
      "2/2 [==============================] - 0s 11ms/step - loss: 0.3140 - accuracy: 0.9360\n",
      "Epoch 95/100\n",
      "2/2 [==============================] - 0s 9ms/step - loss: 0.3084 - accuracy: 0.9366\n",
      "Epoch 96/100\n",
      "2/2 [==============================] - 0s 14ms/step - loss: 0.2996 - accuracy: 0.9399\n",
      "Epoch 97/100\n",
      "2/2 [==============================] - 0s 10ms/step - loss: 0.2943 - accuracy: 0.9399\n",
      "Epoch 98/100\n",
      "2/2 [==============================] - 0s 15ms/step - loss: 0.2934 - accuracy: 0.9427\n",
      "Epoch 99/100\n",
      "2/2 [==============================] - 0s 13ms/step - loss: 0.2864 - accuracy: 0.9382\n",
      "Epoch 100/100\n",
      "2/2 [==============================] - 0s 9ms/step - loss: 0.2812 - accuracy: 0.9444\n",
      "Model: \"sequential\"\n",
      "_________________________________________________________________\n",
      " Layer (type)                Output Shape              Param #   \n",
      "=================================================================\n",
      " dense (Dense)               (None, 32)                2080      \n",
      "                                                                 \n",
      " leaky_re_lu (LeakyReLU)     (None, 32)                0         \n",
      "                                                                 \n",
      " dense_1 (Dense)             (None, 32)                1056      \n",
      "                                                                 \n",
      " leaky_re_lu_1 (LeakyReLU)   (None, 32)                0         \n",
      "                                                                 \n",
      " dense_2 (Dense)             (None, 10)                330       \n",
      "                                                                 \n",
      "=================================================================\n",
      "Total params: 3466 (13.54 KB)\n",
      "Trainable params: 3466 (13.54 KB)\n",
      "Non-trainable params: 0 (0.00 Byte)\n",
      "_________________________________________________________________\n"
     ]
    }
   ],
   "source": [
    "from tensorflow.keras.models import Sequential\n",
    "from tensorflow.keras.layers import Dense\n",
    "from tensorflow.keras.layers import LeakyReLU\n",
    "\n",
    "\n",
    "neural_network = Sequential()\n",
    "\n",
    "# Add layers to the neural network\n",
    "neural_network.add(Dense(units=32, input_dim=64))\n",
    "neural_network.add(LeakyReLU(alpha=0.01))  # Leaky ReLU activation function\n",
    "neural_network.add(Dense(units=32))\n",
    "neural_network.add(LeakyReLU(alpha=0.01))  # Leaky ReLU activation function\n",
    "neural_network.add(Dense(units=10, activation='softmax'))  # Last layer\n",
    "\n",
    "# Compile the neural network\n",
    "neural_network.compile(optimizer='rmsprop', loss='sparse_categorical_crossentropy', metrics=['accuracy'])\n",
    "\n",
    "history2 = neural_network.fit(x, y, epochs=100, batch_size=1700)\n",
    "\n",
    "\n",
    "# Print the summary of the neural network\n",
    "neural_network.summary()\n"
   ]
  },
  {
   "cell_type": "code",
   "execution_count": 4,
   "metadata": {},
   "outputs": [
    {
     "data": {
      "application/vnd.plotly.v1+json": {
       "config": {
        "plotlyServerURL": "https://plot.ly"
       },
       "data": [
        {
         "name": "Accuracy",
         "type": "scatter",
         "x": [
          1,
          2,
          3,
          4,
          5,
          6,
          7,
          8,
          9,
          10,
          11,
          12,
          13,
          14,
          15,
          16,
          17,
          18,
          19,
          20,
          21,
          22,
          23,
          24,
          25,
          26,
          27,
          28,
          29,
          30,
          31,
          32,
          33,
          34,
          35,
          36,
          37,
          38,
          39,
          40,
          41,
          42,
          43,
          44,
          45,
          46,
          47,
          48,
          49,
          50,
          51,
          52,
          53,
          54,
          55,
          56,
          57,
          58,
          59,
          60,
          61,
          62,
          63,
          64,
          65,
          66,
          67,
          68,
          69,
          70,
          71,
          72,
          73,
          74,
          75,
          76,
          77,
          78,
          79,
          80,
          81,
          82,
          83,
          84,
          85,
          86,
          87,
          88,
          89,
          90,
          91,
          92,
          93,
          94,
          95,
          96,
          97,
          98,
          99,
          100
         ],
         "y": [
          0.10239287465810776,
          0.124652199447155,
          0.1519198715686798,
          0.18920423090457916,
          0.19977740943431854,
          0.2665553689002991,
          0.2821368873119354,
          0.314412921667099,
          0.36115747690200806,
          0.39232054352760315,
          0.4129104018211365,
          0.42737895250320435,
          0.47245410084724426,
          0.4780189096927643,
          0.5013912320137024,
          0.5130773782730103,
          0.5676127076148987,
          0.5653867721557617,
          0.6026711463928223,
          0.6037840843200684,
          0.631051778793335,
          0.634390652179718,
          0.6505286693572998,
          0.6605453491210938,
          0.6677796244621277,
          0.6794657707214355,
          0.6983861923217773,
          0.6939343214035034,
          0.6983861923217773,
          0.7056204676628113,
          0.7178630828857422,
          0.7139677405357361,
          0.728436291217804,
          0.7506955862045288,
          0.7618252635002136,
          0.7751808762550354,
          0.7835280895233154,
          0.7896494269371033,
          0.8113522529602051,
          0.8113522529602051,
          0.815247654914856,
          0.8196995258331299,
          0.818030059337616,
          0.825820803642273,
          0.8352810144424438,
          0.826377272605896,
          0.8369504809379578,
          0.8458542227745056,
          0.8530884981155396,
          0.8608792424201965,
          0.8592097759246826,
          0.8636616468429565,
          0.8619921803474426,
          0.8747913241386414,
          0.8770172595977783,
          0.8786867260932922,
          0.8725653886795044,
          0.8797996640205383,
          0.8820255994796753,
          0.8809126615524292,
          0.8708959221839905,
          0.8864774703979492,
          0.8887034058570862,
          0.8953812122344971,
          0.905397891998291,
          0.897607147693634,
          0.8987200856208801,
          0.9042848944664001,
          0.9092932939529419,
          0.9070673584938049,
          0.913745105266571,
          0.908180296421051,
          0.9098497629165649,
          0.9165275692939758,
          0.9187535047531128,
          0.9187535047531128,
          0.9248747825622559,
          0.9204229116439819,
          0.920979380607605,
          0.9237618446350098,
          0.9232053160667419,
          0.9293266534805298,
          0.9259877800941467,
          0.9293266534805298,
          0.9326655268669128,
          0.9259877800941467,
          0.9271007180213928,
          0.9304396510124207,
          0.9343349933624268,
          0.9376739263534546,
          0.9348914623260498,
          0.9354479908943176,
          0.9426822662353516,
          0.9360044598579407,
          0.9365609288215637,
          0.9398998618125916,
          0.9398998618125916,
          0.9426822662353516,
          0.9382303953170776,
          0.9443516731262207
         ]
        },
        {
         "name": "Loss",
         "type": "scatter",
         "x": [
          1,
          2,
          3,
          4,
          5,
          6,
          7,
          8,
          9,
          10,
          11,
          12,
          13,
          14,
          15,
          16,
          17,
          18,
          19,
          20,
          21,
          22,
          23,
          24,
          25,
          26,
          27,
          28,
          29,
          30,
          31,
          32,
          33,
          34,
          35,
          36,
          37,
          38,
          39,
          40,
          41,
          42,
          43,
          44,
          45,
          46,
          47,
          48,
          49,
          50,
          51,
          52,
          53,
          54,
          55,
          56,
          57,
          58,
          59,
          60,
          61,
          62,
          63,
          64,
          65,
          66,
          67,
          68,
          69,
          70,
          71,
          72,
          73,
          74,
          75,
          76,
          77,
          78,
          79,
          80,
          81,
          82,
          83,
          84,
          85,
          86,
          87,
          88,
          89,
          90,
          91,
          92,
          93,
          94,
          95,
          96,
          97,
          98,
          99,
          100
         ],
         "y": [
          2.341684103012085,
          2.2663803100585938,
          2.224370002746582,
          2.1915225982666016,
          2.1610593795776367,
          2.1300363540649414,
          2.103476047515869,
          2.0768003463745117,
          2.049090623855591,
          2.0215673446655273,
          1.9940119981765747,
          1.9661881923675537,
          1.938663125038147,
          1.9103333950042725,
          1.8804136514663696,
          1.8513705730438232,
          1.820631504058838,
          1.790165901184082,
          1.7578705549240112,
          1.7276623249053955,
          1.6963568925857544,
          1.665194034576416,
          1.6331366300582886,
          1.6012922525405884,
          1.5663002729415894,
          1.5372645854949951,
          1.5047953128814697,
          1.475304126739502,
          1.4449644088745117,
          1.4108076095581055,
          1.3789842128753662,
          1.3466856479644775,
          1.3145768642425537,
          1.283201813697815,
          1.2538397312164307,
          1.2215648889541626,
          1.1947118043899536,
          1.1660517454147339,
          1.1365517377853394,
          1.1081469058990479,
          1.0814310312271118,
          1.055332064628601,
          1.0277504920959473,
          1.0058406591415405,
          0.9763596653938293,
          0.9523603916168213,
          0.928834080696106,
          0.9057859778404236,
          0.8848490715026855,
          0.8566195368766785,
          0.8399894833564758,
          0.8153239488601685,
          0.7958202362060547,
          0.7743229269981384,
          0.7553028464317322,
          0.736321747303009,
          0.7200236916542053,
          0.6977418065071106,
          0.6814476847648621,
          0.6662213802337646,
          0.6492281556129456,
          0.6287227869033813,
          0.6189852952957153,
          0.5977180600166321,
          0.5854463577270508,
          0.5721161961555481,
          0.557713508605957,
          0.5429553389549255,
          0.528053879737854,
          0.5180351138114929,
          0.5064327120780945,
          0.5018061995506287,
          0.4877583384513855,
          0.47136595845222473,
          0.4602109491825104,
          0.45476841926574707,
          0.43945547938346863,
          0.4323040843009949,
          0.42546093463897705,
          0.41286540031433105,
          0.40482860803604126,
          0.39377039670944214,
          0.3871271014213562,
          0.37840142846107483,
          0.371942400932312,
          0.366090327501297,
          0.35723188519477844,
          0.34957069158554077,
          0.34074193239212036,
          0.33364009857177734,
          0.32734331488609314,
          0.32324445247650146,
          0.3170076906681061,
          0.3139730393886566,
          0.3084031939506531,
          0.29958730936050415,
          0.29427018761634827,
          0.29339373111724854,
          0.28640449047088623,
          0.2811611592769623
         ]
        }
       ],
       "layout": {
        "template": {
         "data": {
          "bar": [
           {
            "error_x": {
             "color": "#2a3f5f"
            },
            "error_y": {
             "color": "#2a3f5f"
            },
            "marker": {
             "line": {
              "color": "#E5ECF6",
              "width": 0.5
             },
             "pattern": {
              "fillmode": "overlay",
              "size": 10,
              "solidity": 0.2
             }
            },
            "type": "bar"
           }
          ],
          "barpolar": [
           {
            "marker": {
             "line": {
              "color": "#E5ECF6",
              "width": 0.5
             },
             "pattern": {
              "fillmode": "overlay",
              "size": 10,
              "solidity": 0.2
             }
            },
            "type": "barpolar"
           }
          ],
          "carpet": [
           {
            "aaxis": {
             "endlinecolor": "#2a3f5f",
             "gridcolor": "white",
             "linecolor": "white",
             "minorgridcolor": "white",
             "startlinecolor": "#2a3f5f"
            },
            "baxis": {
             "endlinecolor": "#2a3f5f",
             "gridcolor": "white",
             "linecolor": "white",
             "minorgridcolor": "white",
             "startlinecolor": "#2a3f5f"
            },
            "type": "carpet"
           }
          ],
          "choropleth": [
           {
            "colorbar": {
             "outlinewidth": 0,
             "ticks": ""
            },
            "type": "choropleth"
           }
          ],
          "contour": [
           {
            "colorbar": {
             "outlinewidth": 0,
             "ticks": ""
            },
            "colorscale": [
             [
              0,
              "#0d0887"
             ],
             [
              0.1111111111111111,
              "#46039f"
             ],
             [
              0.2222222222222222,
              "#7201a8"
             ],
             [
              0.3333333333333333,
              "#9c179e"
             ],
             [
              0.4444444444444444,
              "#bd3786"
             ],
             [
              0.5555555555555556,
              "#d8576b"
             ],
             [
              0.6666666666666666,
              "#ed7953"
             ],
             [
              0.7777777777777778,
              "#fb9f3a"
             ],
             [
              0.8888888888888888,
              "#fdca26"
             ],
             [
              1,
              "#f0f921"
             ]
            ],
            "type": "contour"
           }
          ],
          "contourcarpet": [
           {
            "colorbar": {
             "outlinewidth": 0,
             "ticks": ""
            },
            "type": "contourcarpet"
           }
          ],
          "heatmap": [
           {
            "colorbar": {
             "outlinewidth": 0,
             "ticks": ""
            },
            "colorscale": [
             [
              0,
              "#0d0887"
             ],
             [
              0.1111111111111111,
              "#46039f"
             ],
             [
              0.2222222222222222,
              "#7201a8"
             ],
             [
              0.3333333333333333,
              "#9c179e"
             ],
             [
              0.4444444444444444,
              "#bd3786"
             ],
             [
              0.5555555555555556,
              "#d8576b"
             ],
             [
              0.6666666666666666,
              "#ed7953"
             ],
             [
              0.7777777777777778,
              "#fb9f3a"
             ],
             [
              0.8888888888888888,
              "#fdca26"
             ],
             [
              1,
              "#f0f921"
             ]
            ],
            "type": "heatmap"
           }
          ],
          "heatmapgl": [
           {
            "colorbar": {
             "outlinewidth": 0,
             "ticks": ""
            },
            "colorscale": [
             [
              0,
              "#0d0887"
             ],
             [
              0.1111111111111111,
              "#46039f"
             ],
             [
              0.2222222222222222,
              "#7201a8"
             ],
             [
              0.3333333333333333,
              "#9c179e"
             ],
             [
              0.4444444444444444,
              "#bd3786"
             ],
             [
              0.5555555555555556,
              "#d8576b"
             ],
             [
              0.6666666666666666,
              "#ed7953"
             ],
             [
              0.7777777777777778,
              "#fb9f3a"
             ],
             [
              0.8888888888888888,
              "#fdca26"
             ],
             [
              1,
              "#f0f921"
             ]
            ],
            "type": "heatmapgl"
           }
          ],
          "histogram": [
           {
            "marker": {
             "pattern": {
              "fillmode": "overlay",
              "size": 10,
              "solidity": 0.2
             }
            },
            "type": "histogram"
           }
          ],
          "histogram2d": [
           {
            "colorbar": {
             "outlinewidth": 0,
             "ticks": ""
            },
            "colorscale": [
             [
              0,
              "#0d0887"
             ],
             [
              0.1111111111111111,
              "#46039f"
             ],
             [
              0.2222222222222222,
              "#7201a8"
             ],
             [
              0.3333333333333333,
              "#9c179e"
             ],
             [
              0.4444444444444444,
              "#bd3786"
             ],
             [
              0.5555555555555556,
              "#d8576b"
             ],
             [
              0.6666666666666666,
              "#ed7953"
             ],
             [
              0.7777777777777778,
              "#fb9f3a"
             ],
             [
              0.8888888888888888,
              "#fdca26"
             ],
             [
              1,
              "#f0f921"
             ]
            ],
            "type": "histogram2d"
           }
          ],
          "histogram2dcontour": [
           {
            "colorbar": {
             "outlinewidth": 0,
             "ticks": ""
            },
            "colorscale": [
             [
              0,
              "#0d0887"
             ],
             [
              0.1111111111111111,
              "#46039f"
             ],
             [
              0.2222222222222222,
              "#7201a8"
             ],
             [
              0.3333333333333333,
              "#9c179e"
             ],
             [
              0.4444444444444444,
              "#bd3786"
             ],
             [
              0.5555555555555556,
              "#d8576b"
             ],
             [
              0.6666666666666666,
              "#ed7953"
             ],
             [
              0.7777777777777778,
              "#fb9f3a"
             ],
             [
              0.8888888888888888,
              "#fdca26"
             ],
             [
              1,
              "#f0f921"
             ]
            ],
            "type": "histogram2dcontour"
           }
          ],
          "mesh3d": [
           {
            "colorbar": {
             "outlinewidth": 0,
             "ticks": ""
            },
            "type": "mesh3d"
           }
          ],
          "parcoords": [
           {
            "line": {
             "colorbar": {
              "outlinewidth": 0,
              "ticks": ""
             }
            },
            "type": "parcoords"
           }
          ],
          "pie": [
           {
            "automargin": true,
            "type": "pie"
           }
          ],
          "scatter": [
           {
            "fillpattern": {
             "fillmode": "overlay",
             "size": 10,
             "solidity": 0.2
            },
            "type": "scatter"
           }
          ],
          "scatter3d": [
           {
            "line": {
             "colorbar": {
              "outlinewidth": 0,
              "ticks": ""
             }
            },
            "marker": {
             "colorbar": {
              "outlinewidth": 0,
              "ticks": ""
             }
            },
            "type": "scatter3d"
           }
          ],
          "scattercarpet": [
           {
            "marker": {
             "colorbar": {
              "outlinewidth": 0,
              "ticks": ""
             }
            },
            "type": "scattercarpet"
           }
          ],
          "scattergeo": [
           {
            "marker": {
             "colorbar": {
              "outlinewidth": 0,
              "ticks": ""
             }
            },
            "type": "scattergeo"
           }
          ],
          "scattergl": [
           {
            "marker": {
             "colorbar": {
              "outlinewidth": 0,
              "ticks": ""
             }
            },
            "type": "scattergl"
           }
          ],
          "scattermapbox": [
           {
            "marker": {
             "colorbar": {
              "outlinewidth": 0,
              "ticks": ""
             }
            },
            "type": "scattermapbox"
           }
          ],
          "scatterpolar": [
           {
            "marker": {
             "colorbar": {
              "outlinewidth": 0,
              "ticks": ""
             }
            },
            "type": "scatterpolar"
           }
          ],
          "scatterpolargl": [
           {
            "marker": {
             "colorbar": {
              "outlinewidth": 0,
              "ticks": ""
             }
            },
            "type": "scatterpolargl"
           }
          ],
          "scatterternary": [
           {
            "marker": {
             "colorbar": {
              "outlinewidth": 0,
              "ticks": ""
             }
            },
            "type": "scatterternary"
           }
          ],
          "surface": [
           {
            "colorbar": {
             "outlinewidth": 0,
             "ticks": ""
            },
            "colorscale": [
             [
              0,
              "#0d0887"
             ],
             [
              0.1111111111111111,
              "#46039f"
             ],
             [
              0.2222222222222222,
              "#7201a8"
             ],
             [
              0.3333333333333333,
              "#9c179e"
             ],
             [
              0.4444444444444444,
              "#bd3786"
             ],
             [
              0.5555555555555556,
              "#d8576b"
             ],
             [
              0.6666666666666666,
              "#ed7953"
             ],
             [
              0.7777777777777778,
              "#fb9f3a"
             ],
             [
              0.8888888888888888,
              "#fdca26"
             ],
             [
              1,
              "#f0f921"
             ]
            ],
            "type": "surface"
           }
          ],
          "table": [
           {
            "cells": {
             "fill": {
              "color": "#EBF0F8"
             },
             "line": {
              "color": "white"
             }
            },
            "header": {
             "fill": {
              "color": "#C8D4E3"
             },
             "line": {
              "color": "white"
             }
            },
            "type": "table"
           }
          ]
         },
         "layout": {
          "annotationdefaults": {
           "arrowcolor": "#2a3f5f",
           "arrowhead": 0,
           "arrowwidth": 1
          },
          "autotypenumbers": "strict",
          "coloraxis": {
           "colorbar": {
            "outlinewidth": 0,
            "ticks": ""
           }
          },
          "colorscale": {
           "diverging": [
            [
             0,
             "#8e0152"
            ],
            [
             0.1,
             "#c51b7d"
            ],
            [
             0.2,
             "#de77ae"
            ],
            [
             0.3,
             "#f1b6da"
            ],
            [
             0.4,
             "#fde0ef"
            ],
            [
             0.5,
             "#f7f7f7"
            ],
            [
             0.6,
             "#e6f5d0"
            ],
            [
             0.7,
             "#b8e186"
            ],
            [
             0.8,
             "#7fbc41"
            ],
            [
             0.9,
             "#4d9221"
            ],
            [
             1,
             "#276419"
            ]
           ],
           "sequential": [
            [
             0,
             "#0d0887"
            ],
            [
             0.1111111111111111,
             "#46039f"
            ],
            [
             0.2222222222222222,
             "#7201a8"
            ],
            [
             0.3333333333333333,
             "#9c179e"
            ],
            [
             0.4444444444444444,
             "#bd3786"
            ],
            [
             0.5555555555555556,
             "#d8576b"
            ],
            [
             0.6666666666666666,
             "#ed7953"
            ],
            [
             0.7777777777777778,
             "#fb9f3a"
            ],
            [
             0.8888888888888888,
             "#fdca26"
            ],
            [
             1,
             "#f0f921"
            ]
           ],
           "sequentialminus": [
            [
             0,
             "#0d0887"
            ],
            [
             0.1111111111111111,
             "#46039f"
            ],
            [
             0.2222222222222222,
             "#7201a8"
            ],
            [
             0.3333333333333333,
             "#9c179e"
            ],
            [
             0.4444444444444444,
             "#bd3786"
            ],
            [
             0.5555555555555556,
             "#d8576b"
            ],
            [
             0.6666666666666666,
             "#ed7953"
            ],
            [
             0.7777777777777778,
             "#fb9f3a"
            ],
            [
             0.8888888888888888,
             "#fdca26"
            ],
            [
             1,
             "#f0f921"
            ]
           ]
          },
          "colorway": [
           "#636efa",
           "#EF553B",
           "#00cc96",
           "#ab63fa",
           "#FFA15A",
           "#19d3f3",
           "#FF6692",
           "#B6E880",
           "#FF97FF",
           "#FECB52"
          ],
          "font": {
           "color": "#2a3f5f"
          },
          "geo": {
           "bgcolor": "white",
           "lakecolor": "white",
           "landcolor": "#E5ECF6",
           "showlakes": true,
           "showland": true,
           "subunitcolor": "white"
          },
          "hoverlabel": {
           "align": "left"
          },
          "hovermode": "closest",
          "mapbox": {
           "style": "light"
          },
          "paper_bgcolor": "white",
          "plot_bgcolor": "#E5ECF6",
          "polar": {
           "angularaxis": {
            "gridcolor": "white",
            "linecolor": "white",
            "ticks": ""
           },
           "bgcolor": "#E5ECF6",
           "radialaxis": {
            "gridcolor": "white",
            "linecolor": "white",
            "ticks": ""
           }
          },
          "scene": {
           "xaxis": {
            "backgroundcolor": "#E5ECF6",
            "gridcolor": "white",
            "gridwidth": 2,
            "linecolor": "white",
            "showbackground": true,
            "ticks": "",
            "zerolinecolor": "white"
           },
           "yaxis": {
            "backgroundcolor": "#E5ECF6",
            "gridcolor": "white",
            "gridwidth": 2,
            "linecolor": "white",
            "showbackground": true,
            "ticks": "",
            "zerolinecolor": "white"
           },
           "zaxis": {
            "backgroundcolor": "#E5ECF6",
            "gridcolor": "white",
            "gridwidth": 2,
            "linecolor": "white",
            "showbackground": true,
            "ticks": "",
            "zerolinecolor": "white"
           }
          },
          "shapedefaults": {
           "line": {
            "color": "#2a3f5f"
           }
          },
          "ternary": {
           "aaxis": {
            "gridcolor": "white",
            "linecolor": "white",
            "ticks": ""
           },
           "baxis": {
            "gridcolor": "white",
            "linecolor": "white",
            "ticks": ""
           },
           "bgcolor": "#E5ECF6",
           "caxis": {
            "gridcolor": "white",
            "linecolor": "white",
            "ticks": ""
           }
          },
          "title": {
           "x": 0.05
          },
          "xaxis": {
           "automargin": true,
           "gridcolor": "white",
           "linecolor": "white",
           "ticks": "",
           "title": {
            "standoff": 15
           },
           "zerolinecolor": "white",
           "zerolinewidth": 2
          },
          "yaxis": {
           "automargin": true,
           "gridcolor": "white",
           "linecolor": "white",
           "ticks": "",
           "title": {
            "standoff": 15
           },
           "zerolinecolor": "white",
           "zerolinewidth": 2
          }
         }
        },
        "title": {
         "text": "Training History"
        },
        "xaxis": {
         "title": {
          "text": "Epochs"
         }
        },
        "yaxis": {
         "title": {
          "text": "Value"
         }
        }
       }
      }
     },
     "metadata": {},
     "output_type": "display_data"
    }
   ],
   "source": [
    "def plot_history2(history):\n",
    "    fig = go.Figure(data=[go.Scatter(x=list(range(1, len(history.history['accuracy']) + 1)), y=history.history['accuracy'], name='Accuracy'),\n",
    "                         go.Scatter(x=list(range(1, len(history.history['loss']) + 1)), y=history.history['loss'], name='Loss')])\n",
    "    fig.update_layout(title='Training History', xaxis_title='Epochs', yaxis_title='Value')\n",
    "    fig.show()\n",
    "# Plot the training history\n",
    "plot_history2(history2)"
   ]
  }
 ],
 "metadata": {
  "kernelspec": {
   "display_name": "testEnv",
   "language": "python",
   "name": "python3"
  },
  "language_info": {
   "codemirror_mode": {
    "name": "ipython",
    "version": 3
   },
   "file_extension": ".py",
   "mimetype": "text/x-python",
   "name": "python",
   "nbconvert_exporter": "python",
   "pygments_lexer": "ipython3",
   "version": "3.11.4"
  }
 },
 "nbformat": 4,
 "nbformat_minor": 2
}
